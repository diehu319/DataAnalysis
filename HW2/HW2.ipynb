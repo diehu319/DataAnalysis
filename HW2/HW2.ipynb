{
 "cells": [
  {
   "cell_type": "markdown",
   "metadata": {},
   "source": [
    "# Homework 3: Tables and Charts\n",
    "Reading: Textbook chapter [5](http://www.inferentialthinking.com/chapters/05/tables.html).\n",
    "\n",
    "Please complete this notebook by filling in the cells provided; upload to Canvas when done. Before you begin, execute the following cell to load the provided packages."
   ]
  },
  {
   "cell_type": "code",
   "execution_count": 1,
   "metadata": {},
   "outputs": [],
   "source": [
    "# Don't change this cell; just run it. \n",
    "\n",
    "import numpy as np\n",
    "from datascience import *"
   ]
  },
  {
   "cell_type": "markdown",
   "metadata": {},
   "source": [
    "## 1. Tables\n"
   ]
  },
  {
   "cell_type": "markdown",
   "metadata": {},
   "source": [
    "**Question 1.** Suppose you have 4 apples, 3 oranges, and 3 pineapples.  (Perhaps you're using Python to solve a high school Algebra problem.)  Create a table that contains this information.  It should have two columns: \"fruit name\" and \"count\".  Give it the name `fruits`.\n",
    "\n",
    "**Note:** Use lower-case and singular words for the name of each fruit, like `\"apple\"`."
   ]
  },
  {
   "cell_type": "code",
   "execution_count": 3,
   "metadata": {},
   "outputs": [
    {
     "data": {
      "text/html": [
       "<table border=\"1\" class=\"dataframe\">\n",
       "    <thead>\n",
       "        <tr>\n",
       "            <th>Fruit Name</th> <th>Count</th>\n",
       "        </tr>\n",
       "    </thead>\n",
       "    <tbody>\n",
       "        <tr>\n",
       "            <td>apple     </td> <td>4    </td>\n",
       "        </tr>\n",
       "        <tr>\n",
       "            <td>orange    </td> <td>3    </td>\n",
       "        </tr>\n",
       "        <tr>\n",
       "            <td>pineapple </td> <td>3    </td>\n",
       "        </tr>\n",
       "    </tbody>\n",
       "</table>"
      ],
      "text/plain": [
       "Fruit Name | Count\n",
       "apple      | 4\n",
       "orange     | 3\n",
       "pineapple  | 3"
      ]
     },
     "execution_count": 3,
     "metadata": {},
     "output_type": "execute_result"
    }
   ],
   "source": [
    "# Our solution uses 1 statement split over 3 lines.\n",
    "fruits = Table().with_columns(\n",
    "    'Fruit Name', make_array(\"apple\", \"orange\", \"pineapple\"),\n",
    "    'Count', make_array(4,3,3)\n",
    ")\n",
    "fruits"
   ]
  },
  {
   "cell_type": "markdown",
   "metadata": {},
   "source": [
    "**Question 2.** The file `inventory.csv` contains information about the inventory at a fruit stand.  Each row represents the contents of one box of fruit.  Load it as a table named `inventory`."
   ]
  },
  {
   "cell_type": "code",
   "execution_count": 4,
   "metadata": {},
   "outputs": [
    {
     "data": {
      "text/html": [
       "<table border=\"1\" class=\"dataframe\">\n",
       "    <thead>\n",
       "        <tr>\n",
       "            <th>box ID</th> <th>fruit name</th> <th>count</th>\n",
       "        </tr>\n",
       "    </thead>\n",
       "    <tbody>\n",
       "        <tr>\n",
       "            <td>53686 </td> <td>kiwi      </td> <td>45   </td>\n",
       "        </tr>\n",
       "        <tr>\n",
       "            <td>57181 </td> <td>strawberry</td> <td>123  </td>\n",
       "        </tr>\n",
       "        <tr>\n",
       "            <td>25274 </td> <td>apple     </td> <td>20   </td>\n",
       "        </tr>\n",
       "        <tr>\n",
       "            <td>48800 </td> <td>orange    </td> <td>35   </td>\n",
       "        </tr>\n",
       "        <tr>\n",
       "            <td>26187 </td> <td>strawberry</td> <td>255  </td>\n",
       "        </tr>\n",
       "        <tr>\n",
       "            <td>57930 </td> <td>grape     </td> <td>517  </td>\n",
       "        </tr>\n",
       "        <tr>\n",
       "            <td>52357 </td> <td>strawberry</td> <td>102  </td>\n",
       "        </tr>\n",
       "        <tr>\n",
       "            <td>43566 </td> <td>peach     </td> <td>40   </td>\n",
       "        </tr>\n",
       "    </tbody>\n",
       "</table>"
      ],
      "text/plain": [
       "box ID | fruit name | count\n",
       "53686  | kiwi       | 45\n",
       "57181  | strawberry | 123\n",
       "25274  | apple      | 20\n",
       "48800  | orange     | 35\n",
       "26187  | strawberry | 255\n",
       "57930  | grape      | 517\n",
       "52357  | strawberry | 102\n",
       "43566  | peach      | 40"
      ]
     },
     "execution_count": 4,
     "metadata": {},
     "output_type": "execute_result"
    }
   ],
   "source": [
    "inventory = Table.read_table(\"inventory.csv\")\n",
    "inventory"
   ]
  },
  {
   "cell_type": "markdown",
   "metadata": {},
   "source": [
    "**Question 3.** Does each box at the fruit stand contain a different fruit?"
   ]
  },
  {
   "cell_type": "code",
   "execution_count": 5,
   "metadata": {},
   "outputs": [
    {
     "data": {
      "text/plain": [
       "'No'"
      ]
     },
     "execution_count": 5,
     "metadata": {},
     "output_type": "execute_result"
    }
   ],
   "source": [
    "# Set all_different to \"Yes\" if each box contains a different fruit or to \"No\" if multiple boxes contain the same fruit\n",
    "all_different = \"No\"\n",
    "all_different"
   ]
  },
  {
   "cell_type": "markdown",
   "metadata": {},
   "source": [
    "**Question 4.** The file `sales.csv` contains the number of fruit sold from each box last Saturday.  It has an extra column called \"price per fruit (\\$)\" that's the price *per item of fruit* for fruit in that box.  The rows are in the same order as the `inventory` table.  Load these data into a table called `sales`."
   ]
  },
  {
   "cell_type": "code",
   "execution_count": 6,
   "metadata": {},
   "outputs": [
    {
     "data": {
      "text/html": [
       "<table border=\"1\" class=\"dataframe\">\n",
       "    <thead>\n",
       "        <tr>\n",
       "            <th>box ID</th> <th>fruit name</th> <th>count sold</th> <th>price per fruit ($)</th>\n",
       "        </tr>\n",
       "    </thead>\n",
       "    <tbody>\n",
       "        <tr>\n",
       "            <td>53686 </td> <td>kiwi      </td> <td>3         </td> <td>0.5                </td>\n",
       "        </tr>\n",
       "        <tr>\n",
       "            <td>57181 </td> <td>strawberry</td> <td>101       </td> <td>0.2                </td>\n",
       "        </tr>\n",
       "        <tr>\n",
       "            <td>25274 </td> <td>apple     </td> <td>0         </td> <td>0.8                </td>\n",
       "        </tr>\n",
       "        <tr>\n",
       "            <td>48800 </td> <td>orange    </td> <td>35        </td> <td>0.6                </td>\n",
       "        </tr>\n",
       "        <tr>\n",
       "            <td>26187 </td> <td>strawberry</td> <td>25        </td> <td>0.15               </td>\n",
       "        </tr>\n",
       "        <tr>\n",
       "            <td>57930 </td> <td>grape     </td> <td>355       </td> <td>0.06               </td>\n",
       "        </tr>\n",
       "        <tr>\n",
       "            <td>52357 </td> <td>strawberry</td> <td>102       </td> <td>0.25               </td>\n",
       "        </tr>\n",
       "        <tr>\n",
       "            <td>43566 </td> <td>peach     </td> <td>17        </td> <td>0.8                </td>\n",
       "        </tr>\n",
       "    </tbody>\n",
       "</table>"
      ],
      "text/plain": [
       "box ID | fruit name | count sold | price per fruit ($)\n",
       "53686  | kiwi       | 3          | 0.5\n",
       "57181  | strawberry | 101        | 0.2\n",
       "25274  | apple      | 0          | 0.8\n",
       "48800  | orange     | 35         | 0.6\n",
       "26187  | strawberry | 25         | 0.15\n",
       "57930  | grape      | 355        | 0.06\n",
       "52357  | strawberry | 102        | 0.25\n",
       "43566  | peach      | 17         | 0.8"
      ]
     },
     "execution_count": 6,
     "metadata": {},
     "output_type": "execute_result"
    }
   ],
   "source": [
    "sales = Table.read_table(\"sales.csv\")\n",
    "sales"
   ]
  },
  {
   "cell_type": "markdown",
   "metadata": {},
   "source": [
    "**Question 5.** How many fruits did the store sell in total on that day?"
   ]
  },
  {
   "cell_type": "code",
   "execution_count": 7,
   "metadata": {},
   "outputs": [
    {
     "data": {
      "text/plain": [
       "638"
      ]
     },
     "execution_count": 7,
     "metadata": {},
     "output_type": "execute_result"
    }
   ],
   "source": [
    "total_fruits_sold = sum(sales.column(\"count sold\"))\n",
    "total_fruits_sold"
   ]
  },
  {
   "cell_type": "markdown",
   "metadata": {},
   "source": [
    "**Question 6.** What was the store's total revenue (the total price of all fruits sold) on that day?\n",
    "\n",
    "*Hint:* If you're stuck, think first about how you would compute the total revenue from just the grape sales."
   ]
  },
  {
   "cell_type": "code",
   "execution_count": 10,
   "metadata": {},
   "outputs": [
    {
     "data": {
      "text/plain": [
       "106.85"
      ]
     },
     "execution_count": 10,
     "metadata": {},
     "output_type": "execute_result"
    }
   ],
   "source": [
    "total_revenue = sum(sales.column(\"count sold\") * sales.column(\"price per fruit ($)\"))\n",
    "total_revenue"
   ]
  },
  {
   "cell_type": "markdown",
   "metadata": {},
   "source": [
    "**Question 7.** Make a new table called `remaining_inventory`.  It should have the same rows and columns as `inventory`, except that the amount of fruit sold from each box should be subtracted from that box's count, so that the \"count\" is the amount of fruit remaining after Saturday."
   ]
  },
  {
   "cell_type": "code",
   "execution_count": 16,
   "metadata": {},
   "outputs": [
    {
     "data": {
      "text/html": [
       "<table border=\"1\" class=\"dataframe\">\n",
       "    <thead>\n",
       "        <tr>\n",
       "            <th>box ID</th> <th>fruit name</th> <th>count</th>\n",
       "        </tr>\n",
       "    </thead>\n",
       "    <tbody>\n",
       "        <tr>\n",
       "            <td>53686 </td> <td>kiwi      </td> <td>42   </td>\n",
       "        </tr>\n",
       "        <tr>\n",
       "            <td>57181 </td> <td>strawberry</td> <td>22   </td>\n",
       "        </tr>\n",
       "        <tr>\n",
       "            <td>25274 </td> <td>apple     </td> <td>20   </td>\n",
       "        </tr>\n",
       "        <tr>\n",
       "            <td>48800 </td> <td>orange    </td> <td>0    </td>\n",
       "        </tr>\n",
       "        <tr>\n",
       "            <td>26187 </td> <td>strawberry</td> <td>230  </td>\n",
       "        </tr>\n",
       "        <tr>\n",
       "            <td>57930 </td> <td>grape     </td> <td>162  </td>\n",
       "        </tr>\n",
       "        <tr>\n",
       "            <td>52357 </td> <td>strawberry</td> <td>0    </td>\n",
       "        </tr>\n",
       "        <tr>\n",
       "            <td>43566 </td> <td>peach     </td> <td>23   </td>\n",
       "        </tr>\n",
       "    </tbody>\n",
       "</table>"
      ],
      "text/plain": [
       "box ID | fruit name | count\n",
       "53686  | kiwi       | 42\n",
       "57181  | strawberry | 22\n",
       "25274  | apple      | 20\n",
       "48800  | orange     | 0\n",
       "26187  | strawberry | 230\n",
       "57930  | grape      | 162\n",
       "52357  | strawberry | 0\n",
       "43566  | peach      | 23"
      ]
     },
     "execution_count": 16,
     "metadata": {},
     "output_type": "execute_result"
    }
   ],
   "source": [
    "remaining_inventory = inventory.with_column(\"count\", inventory.column(\"count\") - sales.column(\"count sold\"))\n",
    "remaining_inventory"
   ]
  },
  {
   "cell_type": "markdown",
   "metadata": {},
   "source": [
    "## 2. Unemployment\n"
   ]
  },
  {
   "cell_type": "markdown",
   "metadata": {},
   "source": [
    "The Federal Reserve Bank of St. Louis publishes data about jobs in the US.  Below we've loaded data on unemployment in the United States.  There are many ways of defining unemployment, and our dataset includes two notions of the unemployment rate:\n",
    "\n",
    "1. Among people who are able to work and are looking for a full-time job, the percentage who can't find a job.  This is called the Non-Employment Index, or NEI.\n",
    "2. Among people who are able to work and are looking for a full-time job, the percentage who can't find any job *or* are only working at a part-time job.  The latter group is called \"Part-Time for Economic Reasons\", so the acronym for this index is NEI-PTER.  (Economists are great at marketing.)\n",
    "\n",
    "The source of the data is [here](https://fred.stlouisfed.org/categories/33509)."
   ]
  },
  {
   "cell_type": "markdown",
   "metadata": {},
   "source": [
    "**Question 1.** The data are in a CSV file called `unemployment.csv`.  Load that file into a table called `unemployment`."
   ]
  },
  {
   "cell_type": "code",
   "execution_count": 17,
   "metadata": {},
   "outputs": [
    {
     "data": {
      "text/html": [
       "<table border=\"1\" class=\"dataframe\">\n",
       "    <thead>\n",
       "        <tr>\n",
       "            <th>Date</th> <th>NEI</th> <th>NEI-PTER</th>\n",
       "        </tr>\n",
       "    </thead>\n",
       "    <tbody>\n",
       "        <tr>\n",
       "            <td>1994-01-01</td> <td>10.0974</td> <td>11.172  </td>\n",
       "        </tr>\n",
       "        <tr>\n",
       "            <td>1994-04-01</td> <td>9.6239 </td> <td>10.7883 </td>\n",
       "        </tr>\n",
       "        <tr>\n",
       "            <td>1994-07-01</td> <td>9.3276 </td> <td>10.4831 </td>\n",
       "        </tr>\n",
       "        <tr>\n",
       "            <td>1994-10-01</td> <td>9.1071 </td> <td>10.2361 </td>\n",
       "        </tr>\n",
       "        <tr>\n",
       "            <td>1995-01-01</td> <td>8.9693 </td> <td>10.1832 </td>\n",
       "        </tr>\n",
       "        <tr>\n",
       "            <td>1995-04-01</td> <td>9.0314 </td> <td>10.1071 </td>\n",
       "        </tr>\n",
       "        <tr>\n",
       "            <td>1995-07-01</td> <td>8.9802 </td> <td>10.1084 </td>\n",
       "        </tr>\n",
       "        <tr>\n",
       "            <td>1995-10-01</td> <td>8.9932 </td> <td>10.1046 </td>\n",
       "        </tr>\n",
       "        <tr>\n",
       "            <td>1996-01-01</td> <td>9.0002 </td> <td>10.0531 </td>\n",
       "        </tr>\n",
       "        <tr>\n",
       "            <td>1996-04-01</td> <td>8.9038 </td> <td>9.9782  </td>\n",
       "        </tr>\n",
       "    </tbody>\n",
       "</table>\n",
       "<p>... (80 rows omitted)</p>"
      ],
      "text/plain": [
       "Date       | NEI     | NEI-PTER\n",
       "1994-01-01 | 10.0974 | 11.172\n",
       "1994-04-01 | 9.6239  | 10.7883\n",
       "1994-07-01 | 9.3276  | 10.4831\n",
       "1994-10-01 | 9.1071  | 10.2361\n",
       "1995-01-01 | 8.9693  | 10.1832\n",
       "1995-04-01 | 9.0314  | 10.1071\n",
       "1995-07-01 | 8.9802  | 10.1084\n",
       "1995-10-01 | 8.9932  | 10.1046\n",
       "1996-01-01 | 9.0002  | 10.0531\n",
       "1996-04-01 | 8.9038  | 9.9782\n",
       "... (80 rows omitted)"
      ]
     },
     "execution_count": 17,
     "metadata": {},
     "output_type": "execute_result"
    }
   ],
   "source": [
    "unemployment = Table.read_table(\"unemployment.csv\")\n",
    "unemployment"
   ]
  },
  {
   "cell_type": "markdown",
   "metadata": {},
   "source": [
    "**Question 2.** Sort the data in decreasing order by NEI, naming the sorted table `by_nei`.  Create another table called `by_nei_pter` that's sorted in decreasing order by NEI-PTER instead."
   ]
  },
  {
   "cell_type": "code",
   "execution_count": 20,
   "metadata": {},
   "outputs": [],
   "source": [
    "by_nei = unemployment.sort(\"NEI\", descending = True)\n",
    "# by_nei\n",
    "by_nei_pter = unemployment.sort(\"NEI-PTER\", descending = True)\n",
    "# by_nei_pter"
   ]
  },
  {
   "cell_type": "markdown",
   "metadata": {},
   "source": [
    "**Question 3.** Use `take` to make a table containing the data for the 10 quarters when NEI was greatest.  Call that table `greatest_nei`."
   ]
  },
  {
   "cell_type": "code",
   "execution_count": 26,
   "metadata": {},
   "outputs": [
    {
     "data": {
      "text/html": [
       "<table border=\"1\" class=\"dataframe\">\n",
       "    <thead>\n",
       "        <tr>\n",
       "            <th>Date</th> <th>NEI</th> <th>NEI-PTER</th>\n",
       "        </tr>\n",
       "    </thead>\n",
       "    <tbody>\n",
       "        <tr>\n",
       "            <td>2009-10-01</td> <td>10.9698</td> <td>12.8557 </td>\n",
       "        </tr>\n",
       "        <tr>\n",
       "            <td>2010-01-01</td> <td>10.9054</td> <td>12.7311 </td>\n",
       "        </tr>\n",
       "        <tr>\n",
       "            <td>2009-07-01</td> <td>10.8089</td> <td>12.7404 </td>\n",
       "        </tr>\n",
       "        <tr>\n",
       "            <td>2009-04-01</td> <td>10.7082</td> <td>12.5497 </td>\n",
       "        </tr>\n",
       "        <tr>\n",
       "            <td>2010-04-01</td> <td>10.6597</td> <td>12.5664 </td>\n",
       "        </tr>\n",
       "        <tr>\n",
       "            <td>2010-10-01</td> <td>10.5856</td> <td>12.4329 </td>\n",
       "        </tr>\n",
       "        <tr>\n",
       "            <td>2010-07-01</td> <td>10.5521</td> <td>12.3897 </td>\n",
       "        </tr>\n",
       "        <tr>\n",
       "            <td>2011-01-01</td> <td>10.5024</td> <td>12.3017 </td>\n",
       "        </tr>\n",
       "        <tr>\n",
       "            <td>2011-07-01</td> <td>10.4856</td> <td>12.2507 </td>\n",
       "        </tr>\n",
       "        <tr>\n",
       "            <td>2011-04-01</td> <td>10.4409</td> <td>12.247  </td>\n",
       "        </tr>\n",
       "    </tbody>\n",
       "</table>"
      ],
      "text/plain": [
       "Date       | NEI     | NEI-PTER\n",
       "2009-10-01 | 10.9698 | 12.8557\n",
       "2010-01-01 | 10.9054 | 12.7311\n",
       "2009-07-01 | 10.8089 | 12.7404\n",
       "2009-04-01 | 10.7082 | 12.5497\n",
       "2010-04-01 | 10.6597 | 12.5664\n",
       "2010-10-01 | 10.5856 | 12.4329\n",
       "2010-07-01 | 10.5521 | 12.3897\n",
       "2011-01-01 | 10.5024 | 12.3017\n",
       "2011-07-01 | 10.4856 | 12.2507\n",
       "2011-04-01 | 10.4409 | 12.247"
      ]
     },
     "execution_count": 26,
     "metadata": {},
     "output_type": "execute_result"
    }
   ],
   "source": [
    "greatest_nei = by_nei.take(np.arange(10))\n",
    "greatest_nei"
   ]
  },
  {
   "cell_type": "markdown",
   "metadata": {},
   "source": [
    "**Question 4.** It's believed that many people became PTER (recall: \"Part-Time for Economic Reasons\") in the \"Great Recession\" of 2008-2009.  NEI-PTER is the percentage of people who are unemployed (and counted in the NEI) plus the percentage of people who are PTER.  Compute an array containing the percentage of people who were PTER in each quarter.  (The first element of the array should correspond to the first row of `unemployment`, and so on.)\n",
    "\n",
    "*Note:* Use the original `unemployment` table for this."
   ]
  },
  {
   "cell_type": "code",
   "execution_count": 27,
   "metadata": {},
   "outputs": [
    {
     "data": {
      "text/plain": [
       "array([1.0746, 1.1644, 1.1555, 1.129 , 1.2139, 1.0757, 1.1282, 1.1114,\n",
       "       1.0529, 1.0744, 1.1004, 1.0747, 1.0705, 1.0455, 1.008 , 0.9734,\n",
       "       0.9753, 0.8931, 0.9451, 0.8367, 0.8208, 0.8105, 0.8248, 0.7578,\n",
       "       0.7251, 0.7445, 0.7543, 0.7423, 0.7399, 0.7687, 0.8418, 0.9923,\n",
       "       0.9181, 0.9629, 0.9703, 0.9575, 1.0333, 1.0781, 1.0675, 1.0354,\n",
       "       1.0601, 1.01  , 1.0042, 1.0368, 0.9704, 0.923 , 0.9759, 0.93  ,\n",
       "       0.889 , 0.821 , 0.9409, 0.955 , 0.898 , 0.8948, 0.9523, 0.9579,\n",
       "       1.0149, 1.0762, 1.2873, 1.4335, 1.7446, 1.8415, 1.9315, 1.8859,\n",
       "       1.8257, 1.9067, 1.8376, 1.8473, 1.7993, 1.8061, 1.7651, 1.7927,\n",
       "       1.7286, 1.6387, 1.6808, 1.6805, 1.6629, 1.6253, 1.6477, 1.6298,\n",
       "       1.4796, 1.5131, 1.4866, 1.4345, 1.3675, 1.3097, 1.2319, 1.1735,\n",
       "       1.1844, 1.1746])"
      ]
     },
     "execution_count": 27,
     "metadata": {},
     "output_type": "execute_result"
    }
   ],
   "source": [
    "pter = unemployment.column(\"NEI-PTER\") - unemployment.column(\"NEI\")\n",
    "pter"
   ]
  },
  {
   "cell_type": "markdown",
   "metadata": {},
   "source": [
    "**Question 5.** Add `pter` as a column to `unemployment` (named \"PTER\") and sort the resulting table by that column in decreasing order.  Call the table `by_pter`.\n",
    "\n",
    "Try to do this with a single line of code, if you can."
   ]
  },
  {
   "cell_type": "code",
   "execution_count": 28,
   "metadata": {},
   "outputs": [
    {
     "data": {
      "text/html": [
       "<table border=\"1\" class=\"dataframe\">\n",
       "    <thead>\n",
       "        <tr>\n",
       "            <th>Date</th> <th>NEI</th> <th>NEI-PTER</th> <th>PTER</th>\n",
       "        </tr>\n",
       "    </thead>\n",
       "    <tbody>\n",
       "        <tr>\n",
       "            <td>2009-07-01</td> <td>10.8089</td> <td>12.7404 </td> <td>1.9315</td>\n",
       "        </tr>\n",
       "        <tr>\n",
       "            <td>2010-04-01</td> <td>10.6597</td> <td>12.5664 </td> <td>1.9067</td>\n",
       "        </tr>\n",
       "        <tr>\n",
       "            <td>2009-10-01</td> <td>10.9698</td> <td>12.8557 </td> <td>1.8859</td>\n",
       "        </tr>\n",
       "        <tr>\n",
       "            <td>2010-10-01</td> <td>10.5856</td> <td>12.4329 </td> <td>1.8473</td>\n",
       "        </tr>\n",
       "        <tr>\n",
       "            <td>2009-04-01</td> <td>10.7082</td> <td>12.5497 </td> <td>1.8415</td>\n",
       "        </tr>\n",
       "        <tr>\n",
       "            <td>2010-07-01</td> <td>10.5521</td> <td>12.3897 </td> <td>1.8376</td>\n",
       "        </tr>\n",
       "        <tr>\n",
       "            <td>2010-01-01</td> <td>10.9054</td> <td>12.7311 </td> <td>1.8257</td>\n",
       "        </tr>\n",
       "        <tr>\n",
       "            <td>2011-04-01</td> <td>10.4409</td> <td>12.247  </td> <td>1.8061</td>\n",
       "        </tr>\n",
       "        <tr>\n",
       "            <td>2011-01-01</td> <td>10.5024</td> <td>12.3017 </td> <td>1.7993</td>\n",
       "        </tr>\n",
       "        <tr>\n",
       "            <td>2011-10-01</td> <td>10.3287</td> <td>12.1214 </td> <td>1.7927</td>\n",
       "        </tr>\n",
       "    </tbody>\n",
       "</table>\n",
       "<p>... (80 rows omitted)</p>"
      ],
      "text/plain": [
       "Date       | NEI     | NEI-PTER | PTER\n",
       "2009-07-01 | 10.8089 | 12.7404  | 1.9315\n",
       "2010-04-01 | 10.6597 | 12.5664  | 1.9067\n",
       "2009-10-01 | 10.9698 | 12.8557  | 1.8859\n",
       "2010-10-01 | 10.5856 | 12.4329  | 1.8473\n",
       "2009-04-01 | 10.7082 | 12.5497  | 1.8415\n",
       "2010-07-01 | 10.5521 | 12.3897  | 1.8376\n",
       "2010-01-01 | 10.9054 | 12.7311  | 1.8257\n",
       "2011-04-01 | 10.4409 | 12.247   | 1.8061\n",
       "2011-01-01 | 10.5024 | 12.3017  | 1.7993\n",
       "2011-10-01 | 10.3287 | 12.1214  | 1.7927\n",
       "... (80 rows omitted)"
      ]
     },
     "execution_count": 28,
     "metadata": {},
     "output_type": "execute_result"
    }
   ],
   "source": [
    "by_pter = unemployment.with_column(\"PTER\", pter).sort(\"PTER\", descending = True)\n",
    "by_pter"
   ]
  },
  {
   "cell_type": "markdown",
   "metadata": {},
   "source": [
    "**Question 6.** Does it seem true that the PTER rate was very high during the Great Recession, compared to other periods in the dataset? Justify your answer by referring to specific values in the table or by generating a chart."
   ]
  },
  {
   "cell_type": "markdown",
   "metadata": {
    "manual_grade": true,
    "manual_problem_id": "basic_sorting_6"
   },
   "source": [
    "The time period for The Great Recession is 2007 – 2009. From the table generated above, we can see that the highest and third highest PTER rate was recorded for 2009."
   ]
  },
  {
   "cell_type": "code",
   "execution_count": 36,
   "metadata": {},
   "outputs": [
    {
     "data": {
      "text/html": [
       "<table border=\"1\" class=\"dataframe\">\n",
       "    <thead>\n",
       "        <tr>\n",
       "            <th>Date</th> <th>NEI</th> <th>NEI-PTER</th> <th>PTER</th>\n",
       "        </tr>\n",
       "    </thead>\n",
       "    <tbody>\n",
       "        <tr>\n",
       "            <td>2009-07-01</td> <td>10.8089</td> <td>12.7404 </td> <td>1.9315</td>\n",
       "        </tr>\n",
       "    </tbody>\n",
       "</table>"
      ],
      "text/plain": [
       "Date       | NEI     | NEI-PTER | PTER\n",
       "2009-07-01 | 10.8089 | 12.7404  | 1.9315"
      ]
     },
     "execution_count": 36,
     "metadata": {},
     "output_type": "execute_result"
    }
   ],
   "source": [
    "by_pter.where(\"PTER\", are.equal_to(max(by_pter.column(\"PTER\"))))"
   ]
  },
  {
   "cell_type": "markdown",
   "metadata": {},
   "source": [
    "## 3. Birth Rates\n"
   ]
  },
  {
   "cell_type": "markdown",
   "metadata": {},
   "source": [
    "The following table gives census-based population estimates for each state on July 1, 2015 and July 1, 2016. The last four columns describe the components of the estimated change in population during this time interval. *For all questions below, assume that the word \"states\" refers to all 52 rows including Puerto Rico & the District of Columbia.*"
   ]
  },
  {
   "cell_type": "code",
   "execution_count": 37,
   "metadata": {},
   "outputs": [
    {
     "data": {
      "text/html": [
       "<table border=\"1\" class=\"dataframe\">\n",
       "    <thead>\n",
       "        <tr>\n",
       "            <th>REGION</th> <th>NAME</th> <th>2015</th> <th>2016</th> <th>BIRTHS</th> <th>DEATHS</th> <th>MIGRATION</th> <th>OTHER</th>\n",
       "        </tr>\n",
       "    </thead>\n",
       "    <tbody>\n",
       "        <tr>\n",
       "            <td>3     </td> <td>Alabama   </td> <td>4,853,875 </td> <td>4,863,300 </td> <td>58,556 </td> <td>52,405 </td> <td>3,874    </td> <td>-600  </td>\n",
       "        </tr>\n",
       "        <tr>\n",
       "            <td>4     </td> <td>Alaska    </td> <td>737,709   </td> <td>741,894   </td> <td>11,255 </td> <td>4,511  </td> <td>-2,557   </td> <td>-2    </td>\n",
       "        </tr>\n",
       "        <tr>\n",
       "            <td>4     </td> <td>Arizona   </td> <td>6,817,565 </td> <td>6,931,071 </td> <td>87,204 </td> <td>56,564 </td> <td>76,405   </td> <td>6,461 </td>\n",
       "        </tr>\n",
       "        <tr>\n",
       "            <td>3     </td> <td>Arkansas  </td> <td>2,977,853 </td> <td>2,988,248 </td> <td>37,936 </td> <td>30,581 </td> <td>3,530    </td> <td>-490  </td>\n",
       "        </tr>\n",
       "        <tr>\n",
       "            <td>4     </td> <td>California</td> <td>38,993,940</td> <td>39,250,017</td> <td>502,848</td> <td>273,850</td> <td>33,530   </td> <td>-6,451</td>\n",
       "        </tr>\n",
       "    </tbody>\n",
       "</table>\n",
       "<p>... (47 rows omitted)</p>"
      ],
      "text/plain": [
       "<IPython.core.display.HTML object>"
      ]
     },
     "metadata": {},
     "output_type": "display_data"
    }
   ],
   "source": [
    "# Don't change this cell; just run it.\n",
    "# From http://www2.census.gov/programs-surveys/popest/datasets/2010-2016/national/totals/nst-est2016-alldata.csv\n",
    "# See http://www2.census.gov/programs-surveys/popest/datasets/2010-2015/national/totals/nst-est2015-alldata.pdf\n",
    "#     for column descriptions. (As of Feb 2017, no descriptions were posted for 2010-2016.)\n",
    "pop = Table.read_table('nst-est2016-alldata.csv').where('SUMLEV', 40).select([1, 4, 12, 13, 27, 34, 62, 69])\n",
    "pop = pop.relabeled(2, '2015').relabeled(3, '2016')\n",
    "pop = pop.relabeled(4, 'BIRTHS').relabeled(5, 'DEATHS')\n",
    "pop = pop.relabeled(6, 'MIGRATION').relabeled(7, 'OTHER')\n",
    "pop.set_format([2, 3, 4, 5, 6, 7], NumberFormatter(decimals=0)).show(5)"
   ]
  },
  {
   "cell_type": "markdown",
   "metadata": {},
   "source": [
    "**Question 1.** Assign `us_birth_rate` to the total US annual birth rate during this time interval. The annual birth rate for a year-long period is the number of births in that period as a proportion of the population at the start of the period."
   ]
  },
  {
   "cell_type": "code",
   "execution_count": 38,
   "metadata": {},
   "outputs": [
    {
     "data": {
      "text/plain": [
       "0.012358536498646102"
      ]
     },
     "execution_count": 38,
     "metadata": {},
     "output_type": "execute_result"
    }
   ],
   "source": [
    "us_birth_rate = sum(pop.column('BIRTHS'))/sum(pop.column('2015'))\n",
    "us_birth_rate"
   ]
  },
  {
   "cell_type": "markdown",
   "metadata": {},
   "source": [
    "**Question 2.** Assign `fastest_growth` to an array of the names of the five states with the fastest population growth rates in *descending order of growth rate*."
   ]
  },
  {
   "cell_type": "code",
   "execution_count": 44,
   "metadata": {},
   "outputs": [
    {
     "data": {
      "text/plain": [
       "array(['Utah', 'North Dakota', 'Alaska', 'Texas', 'District of Columbia'],\n",
       "      dtype='<U20')"
      ]
     },
     "execution_count": 44,
     "metadata": {},
     "output_type": "execute_result"
    }
   ],
   "source": [
    "fastest_growth = pop.with_column(\"GrowthRate\", pop.column('BIRTHS')/pop.column('2015')).sort(\"GrowthRate\", descending = True).take(np.arange(5)).column(\"NAME\")\n",
    "fastest_growth"
   ]
  },
  {
   "cell_type": "markdown",
   "metadata": {},
   "source": [
    "**Question 3.** Assign `movers` to the number of states for which the absolute annual rate of migration was higher than 1%. The annual rate of migration for a year-long period is the net number of migrations (in and out) as a proportion of the population at the start of the period. The `MIGRATION` column contains estimated annual net migration counts by state."
   ]
  },
  {
   "cell_type": "code",
   "execution_count": 46,
   "metadata": {},
   "outputs": [
    {
     "data": {
      "text/plain": [
       "8"
      ]
     },
     "execution_count": 46,
     "metadata": {},
     "output_type": "execute_result"
    }
   ],
   "source": [
    "movers = pop.with_column(\"MOVER\", pop.column(\"MIGRATION\")/pop.column(\"2015\")).where(\"MOVER\",are.above(.01)).num_rows\n",
    "movers"
   ]
  },
  {
   "cell_type": "markdown",
   "metadata": {},
   "source": [
    "**Question 4.** Assign `west_births` to the total number of births that occurred in region 4 (the Western US)."
   ]
  },
  {
   "cell_type": "code",
   "execution_count": 51,
   "metadata": {},
   "outputs": [
    {
     "data": {
      "text/plain": [
       "979657"
      ]
     },
     "execution_count": 51,
     "metadata": {},
     "output_type": "execute_result"
    }
   ],
   "source": [
    "west_births = sum(pop.where(\"REGION\", are.equal_to(\"4\")).column(\"BIRTHS\"))\n",
    "west_births"
   ]
  },
  {
   "cell_type": "markdown",
   "metadata": {},
   "source": [
    "**Question 5.** Assign `less_than_west_births` to the number of states that had a total population in 2016 that was smaller than the *number of babies born in region 4 (the Western US)* during this time interval."
   ]
  },
  {
   "cell_type": "code",
   "execution_count": 53,
   "metadata": {},
   "outputs": [
    {
     "data": {
      "text/plain": [
       "7"
      ]
     },
     "execution_count": 53,
     "metadata": {},
     "output_type": "execute_result"
    }
   ],
   "source": [
    "less_than_west_births = pop.where(\"2016\", are.below(west_births)).num_rows\n",
    "less_than_west_births"
   ]
  }
 ],
 "metadata": {
  "kernelspec": {
   "display_name": "Python 3",
   "language": "python",
   "name": "python3"
  },
  "language_info": {
   "codemirror_mode": {
    "name": "ipython",
    "version": 3
   },
   "file_extension": ".py",
   "mimetype": "text/x-python",
   "name": "python",
   "nbconvert_exporter": "python",
   "pygments_lexer": "ipython3",
   "version": "3.7.4"
  }
 },
 "nbformat": 4,
 "nbformat_minor": 1
}
