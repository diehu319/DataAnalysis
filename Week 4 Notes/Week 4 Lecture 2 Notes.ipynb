{
 "cells": [
  {
   "cell_type": "code",
   "execution_count": 26,
   "metadata": {},
   "outputs": [],
   "source": [
    "from datascience import *\n",
    "import pandas as pd\n",
    "import numpy as np"
   ]
  },
  {
   "cell_type": "code",
   "execution_count": 27,
   "metadata": {},
   "outputs": [
    {
     "data": {
      "text/html": [
       "<table border=\"1\" class=\"dataframe\">\n",
       "    <thead>\n",
       "        <tr>\n",
       "            <th>State</th> <th>Area_Name</th> <th>Rural-urban_Continuum_Code_2003</th> <th>Urban_Influence_Code_2003</th> <th>Rural-urban_Continuum_Code_2013</th> <th>Urban_Influence_Code_2013</th> <th>POVALL_2017</th> <th>CI90LBAll_2017</th> <th>CI90UBALL_2017</th> <th>PCTPOVALL_2017</th> <th>CI90LBALLP_2017</th> <th>CI90UBALLP_2017</th> <th>POV017_2017</th> <th>CI90LB017_2017</th> <th>CI90UB017_2017</th> <th>PCTPOV017_2017</th> <th>CI90LB017P_2017</th> <th>CI90UB017P_2017</th> <th>POV517_2017</th> <th>CI90LB517_2017</th> <th>CI90UB517_2017</th> <th>PCTPOV517_2017</th> <th>CI90LB517P_2017</th> <th>CI90UB517P_2017</th> <th>MEDHHINC_2017</th> <th>CI90LBINC_2017</th> <th>CI90UBINC_2017</th> <th>POV04_2017</th> <th>CI90LB04_2017</th> <th>CI90UB04_2017</th> <th>PCTPOV04_2017</th> <th>CI90LB04P_2017</th> <th>CI90UB04P_2017</th>\n",
       "        </tr>\n",
       "    </thead>\n",
       "    <tbody>\n",
       "        <tr>\n",
       "            <td>US   </td> <td>United States </td> <td>nan                            </td> <td>nan                      </td> <td>nan                            </td> <td>nan                      </td> <td>42,583,651 </td> <td>42,342,619    </td> <td>42,824,683    </td> <td>13.4          </td> <td>13.3           </td> <td>13.5           </td> <td>13,353,202 </td> <td>13,229,339    </td> <td>13,477,065    </td> <td>18.4          </td> <td>18.2           </td> <td>18.6           </td> <td>9,120,503  </td> <td>9,033,090     </td> <td>9,207,916     </td> <td>17.3          </td> <td>17.1           </td> <td>17.5           </td> <td>60,336       </td> <td>60,250        </td> <td>60,422        </td> <td>3,932,969 </td> <td>3,880,645    </td> <td>3,985,293    </td> <td>20.2         </td> <td>19.9          </td> <td>20.5          </td>\n",
       "        </tr>\n",
       "        <tr>\n",
       "            <td>AL   </td> <td>Alabama       </td> <td>nan                            </td> <td>nan                      </td> <td>nan                            </td> <td>nan                      </td> <td>802,263    </td> <td>784,517       </td> <td>820,009       </td> <td>16.9          </td> <td>16.5           </td> <td>17.3           </td> <td>262,909    </td> <td>253,694       </td> <td>272,124       </td> <td>24.4          </td> <td>23.5           </td> <td>25.3           </td> <td>180,594    </td> <td>172,412       </td> <td>188,776       </td> <td>22.8          </td> <td>21.8           </td> <td>23.8           </td> <td>48,193       </td> <td>47,451        </td> <td>48,935        </td> <td>78,986    </td> <td>75,009       </td> <td>82,963       </td> <td>27.7         </td> <td>26.3          </td> <td>29.1          </td>\n",
       "        </tr>\n",
       "        <tr>\n",
       "            <td>AL   </td> <td>Autauga County</td> <td>2                              </td> <td>2                        </td> <td>2                              </td> <td>2                        </td> <td>7,390      </td> <td>6,147         </td> <td>8,633         </td> <td>13.4          </td> <td>11.1           </td> <td>15.7           </td> <td>2,542      </td> <td>2,081         </td> <td>3,003         </td> <td>19.3          </td> <td>15.8           </td> <td>22.8           </td> <td>1,842      </td> <td>1,492         </td> <td>2,192         </td> <td>18.6          </td> <td>15.1           </td> <td>22.1           </td> <td>58,343       </td> <td>52,121        </td> <td>64,565        </td> <td>nan       </td> <td>nan          </td> <td>nan          </td> <td>nan          </td> <td>nan           </td> <td>nan           </td>\n",
       "        </tr>\n",
       "        <tr>\n",
       "            <td>AL   </td> <td>Baldwin County</td> <td>4                              </td> <td>5                        </td> <td>3                              </td> <td>2                        </td> <td>21,199     </td> <td>17,444        </td> <td>24,954        </td> <td>10.1          </td> <td>8.3            </td> <td>11.9           </td> <td>6,734      </td> <td>5,079         </td> <td>8,389         </td> <td>14.7          </td> <td>11.1           </td> <td>18.3           </td> <td>4,871      </td> <td>3,641         </td> <td>6,101         </td> <td>14.3          </td> <td>10.7           </td> <td>17.9           </td> <td>56,607       </td> <td>52,439        </td> <td>60,775        </td> <td>nan       </td> <td>nan          </td> <td>nan          </td> <td>nan          </td> <td>nan           </td> <td>nan           </td>\n",
       "        </tr>\n",
       "        <tr>\n",
       "            <td>AL   </td> <td>Barbour County</td> <td>6                              </td> <td>6                        </td> <td>6                              </td> <td>6                        </td> <td>7,414      </td> <td>6,325         </td> <td>8,503         </td> <td>33.4          </td> <td>28.5           </td> <td>38.3           </td> <td>2,606      </td> <td>2,262         </td> <td>2,950         </td> <td>50.3          </td> <td>43.7           </td> <td>56.9           </td> <td>1,904      </td> <td>1,660         </td> <td>2,148         </td> <td>48.8          </td> <td>42.6           </td> <td>55             </td> <td>32,490       </td> <td>29,218        </td> <td>35,762        </td> <td>nan       </td> <td>nan          </td> <td>nan          </td> <td>nan          </td> <td>nan           </td> <td>nan           </td>\n",
       "        </tr>\n",
       "        <tr>\n",
       "            <td>AL   </td> <td>Bibb County   </td> <td>1                              </td> <td>1                        </td> <td>1                              </td> <td>1                        </td> <td>4,137      </td> <td>3,187         </td> <td>5,087         </td> <td>20.2          </td> <td>15.5           </td> <td>24.9           </td> <td>1,242      </td> <td>936           </td> <td>1,548         </td> <td>27.3          </td> <td>20.6           </td> <td>34             </td> <td>870        </td> <td>641           </td> <td>1,099         </td> <td>26.8          </td> <td>19.8           </td> <td>33.8           </td> <td>45,795       </td> <td>40,924        </td> <td>50,666        </td> <td>nan       </td> <td>nan          </td> <td>nan          </td> <td>nan          </td> <td>nan           </td> <td>nan           </td>\n",
       "        </tr>\n",
       "        <tr>\n",
       "            <td>AL   </td> <td>Blount County </td> <td>1                              </td> <td>1                        </td> <td>1                              </td> <td>1                        </td> <td>7,343      </td> <td>5,805         </td> <td>8,881         </td> <td>12.8          </td> <td>10.1           </td> <td>15.5           </td> <td>2,484      </td> <td>1,881         </td> <td>3,087         </td> <td>18.5          </td> <td>14             </td> <td>23             </td> <td>1,763      </td> <td>1,307         </td> <td>2,219         </td> <td>17.7          </td> <td>13.1           </td> <td>22.3           </td> <td>48,253       </td> <td>43,784        </td> <td>52,722        </td> <td>nan       </td> <td>nan          </td> <td>nan          </td> <td>nan          </td> <td>nan           </td> <td>nan           </td>\n",
       "        </tr>\n",
       "        <tr>\n",
       "            <td>AL   </td> <td>Bullock County</td> <td>6                              </td> <td>6                        </td> <td>6                              </td> <td>6                        </td> <td>2,956      </td> <td>2,316         </td> <td>3,596         </td> <td>34.4          </td> <td>27             </td> <td>41.8           </td> <td>1,015      </td> <td>790           </td> <td>1,240         </td> <td>48.3          </td> <td>37.6           </td> <td>59             </td> <td>732        </td> <td>562           </td> <td>902           </td> <td>49            </td> <td>37.6           </td> <td>60.4           </td> <td>29,113       </td> <td>25,929        </td> <td>32,297        </td> <td>nan       </td> <td>nan          </td> <td>nan          </td> <td>nan          </td> <td>nan           </td> <td>nan           </td>\n",
       "        </tr>\n",
       "        <tr>\n",
       "            <td>AL   </td> <td>Butler County </td> <td>6                              </td> <td>6                        </td> <td>6                              </td> <td>6                        </td> <td>4,154      </td> <td>3,155         </td> <td>5,153         </td> <td>21.3          </td> <td>16.2           </td> <td>26.4           </td> <td>1,471      </td> <td>1,085         </td> <td>1,857         </td> <td>33            </td> <td>24.3           </td> <td>41.7           </td> <td>1,049      </td> <td>759           </td> <td>1,339         </td> <td>31.8          </td> <td>23             </td> <td>40.6           </td> <td>36,842       </td> <td>33,405        </td> <td>40,279        </td> <td>nan       </td> <td>nan          </td> <td>nan          </td> <td>nan          </td> <td>nan           </td> <td>nan           </td>\n",
       "        </tr>\n",
       "        <tr>\n",
       "            <td>AL   </td> <td>Calhoun County</td> <td>3                              </td> <td>2                        </td> <td>3                              </td> <td>2                        </td> <td>19,832     </td> <td>16,938        </td> <td>22,726        </td> <td>17.7          </td> <td>15.1           </td> <td>20.3           </td> <td>5,932      </td> <td>4,701         </td> <td>7,163         </td> <td>24.2          </td> <td>19.2           </td> <td>29.2           </td> <td>4,021      </td> <td>3,066         </td> <td>4,976         </td> <td>22.2          </td> <td>16.9           </td> <td>27.5           </td> <td>45,937       </td> <td>43,419        </td> <td>48,455        </td> <td>nan       </td> <td>nan          </td> <td>nan          </td> <td>nan          </td> <td>nan           </td> <td>nan           </td>\n",
       "        </tr>\n",
       "    </tbody>\n",
       "</table>\n",
       "<p>... (3184 rows omitted)</p>"
      ],
      "text/plain": [
       "State | Area_Name      | Rural-urban_Continuum_Code_2003 | Urban_Influence_Code_2003 | Rural-urban_Continuum_Code_2013 | Urban_Influence_Code_2013 | POVALL_2017 | CI90LBAll_2017 | CI90UBALL_2017 | PCTPOVALL_2017 | CI90LBALLP_2017 | CI90UBALLP_2017 | POV017_2017 | CI90LB017_2017 | CI90UB017_2017 | PCTPOV017_2017 | CI90LB017P_2017 | CI90UB017P_2017 | POV517_2017 | CI90LB517_2017 | CI90UB517_2017 | PCTPOV517_2017 | CI90LB517P_2017 | CI90UB517P_2017 | MEDHHINC_2017 | CI90LBINC_2017 | CI90UBINC_2017 | POV04_2017 | CI90LB04_2017 | CI90UB04_2017 | PCTPOV04_2017 | CI90LB04P_2017 | CI90UB04P_2017\n",
       "US    | United States  | nan                             | nan                       | nan                             | nan                       | 42,583,651  | 42,342,619     | 42,824,683     | 13.4           | 13.3            | 13.5            | 13,353,202  | 13,229,339     | 13,477,065     | 18.4           | 18.2            | 18.6            | 9,120,503   | 9,033,090      | 9,207,916      | 17.3           | 17.1            | 17.5            | 60,336        | 60,250         | 60,422         | 3,932,969  | 3,880,645     | 3,985,293     | 20.2          | 19.9           | 20.5\n",
       "AL    | Alabama        | nan                             | nan                       | nan                             | nan                       | 802,263     | 784,517        | 820,009        | 16.9           | 16.5            | 17.3            | 262,909     | 253,694        | 272,124        | 24.4           | 23.5            | 25.3            | 180,594     | 172,412        | 188,776        | 22.8           | 21.8            | 23.8            | 48,193        | 47,451         | 48,935         | 78,986     | 75,009        | 82,963        | 27.7          | 26.3           | 29.1\n",
       "AL    | Autauga County | 2                               | 2                         | 2                               | 2                         | 7,390       | 6,147          | 8,633          | 13.4           | 11.1            | 15.7            | 2,542       | 2,081          | 3,003          | 19.3           | 15.8            | 22.8            | 1,842       | 1,492          | 2,192          | 18.6           | 15.1            | 22.1            | 58,343        | 52,121         | 64,565         | nan        | nan           | nan           | nan           | nan            | nan\n",
       "AL    | Baldwin County | 4                               | 5                         | 3                               | 2                         | 21,199      | 17,444         | 24,954         | 10.1           | 8.3             | 11.9            | 6,734       | 5,079          | 8,389          | 14.7           | 11.1            | 18.3            | 4,871       | 3,641          | 6,101          | 14.3           | 10.7            | 17.9            | 56,607        | 52,439         | 60,775         | nan        | nan           | nan           | nan           | nan            | nan\n",
       "AL    | Barbour County | 6                               | 6                         | 6                               | 6                         | 7,414       | 6,325          | 8,503          | 33.4           | 28.5            | 38.3            | 2,606       | 2,262          | 2,950          | 50.3           | 43.7            | 56.9            | 1,904       | 1,660          | 2,148          | 48.8           | 42.6            | 55              | 32,490        | 29,218         | 35,762         | nan        | nan           | nan           | nan           | nan            | nan\n",
       "AL    | Bibb County    | 1                               | 1                         | 1                               | 1                         | 4,137       | 3,187          | 5,087          | 20.2           | 15.5            | 24.9            | 1,242       | 936            | 1,548          | 27.3           | 20.6            | 34              | 870         | 641            | 1,099          | 26.8           | 19.8            | 33.8            | 45,795        | 40,924         | 50,666         | nan        | nan           | nan           | nan           | nan            | nan\n",
       "AL    | Blount County  | 1                               | 1                         | 1                               | 1                         | 7,343       | 5,805          | 8,881          | 12.8           | 10.1            | 15.5            | 2,484       | 1,881          | 3,087          | 18.5           | 14              | 23              | 1,763       | 1,307          | 2,219          | 17.7           | 13.1            | 22.3            | 48,253        | 43,784         | 52,722         | nan        | nan           | nan           | nan           | nan            | nan\n",
       "AL    | Bullock County | 6                               | 6                         | 6                               | 6                         | 2,956       | 2,316          | 3,596          | 34.4           | 27              | 41.8            | 1,015       | 790            | 1,240          | 48.3           | 37.6            | 59              | 732         | 562            | 902            | 49             | 37.6            | 60.4            | 29,113        | 25,929         | 32,297         | nan        | nan           | nan           | nan           | nan            | nan\n",
       "AL    | Butler County  | 6                               | 6                         | 6                               | 6                         | 4,154       | 3,155          | 5,153          | 21.3           | 16.2            | 26.4            | 1,471       | 1,085          | 1,857          | 33             | 24.3            | 41.7            | 1,049       | 759            | 1,339          | 31.8           | 23              | 40.6            | 36,842        | 33,405         | 40,279         | nan        | nan           | nan           | nan           | nan            | nan\n",
       "AL    | Calhoun County | 3                               | 2                         | 3                               | 2                         | 19,832      | 16,938         | 22,726         | 17.7           | 15.1            | 20.3            | 5,932       | 4,701          | 7,163          | 24.2           | 19.2            | 29.2            | 4,021       | 3,066          | 4,976          | 22.2           | 16.9            | 27.5            | 45,937        | 43,419         | 48,455         | nan        | nan           | nan           | nan           | nan            | nan\n",
       "... (3184 rows omitted)"
      ]
     },
     "execution_count": 27,
     "metadata": {},
     "output_type": "execute_result"
    }
   ],
   "source": [
    "Data = Table.read_table(\"PovertyEstimates.csv\")\n",
    "Data"
   ]
  },
  {
   "cell_type": "code",
   "execution_count": 30,
   "metadata": {},
   "outputs": [
    {
     "data": {
      "text/html": [
       "<table border=\"1\" class=\"dataframe\">\n",
       "    <thead>\n",
       "        <tr>\n",
       "            <th>State</th> <th>Rural-urban_Continuum_Code_2003</th>\n",
       "        </tr>\n",
       "    </thead>\n",
       "    <tbody>\n",
       "        <tr>\n",
       "            <td>US   </td> <td>nan                            </td>\n",
       "        </tr>\n",
       "        <tr>\n",
       "            <td>AL   </td> <td>nan                            </td>\n",
       "        </tr>\n",
       "        <tr>\n",
       "            <td>AL   </td> <td>2                              </td>\n",
       "        </tr>\n",
       "        <tr>\n",
       "            <td>AL   </td> <td>4                              </td>\n",
       "        </tr>\n",
       "        <tr>\n",
       "            <td>AL   </td> <td>6                              </td>\n",
       "        </tr>\n",
       "        <tr>\n",
       "            <td>AL   </td> <td>1                              </td>\n",
       "        </tr>\n",
       "        <tr>\n",
       "            <td>AL   </td> <td>1                              </td>\n",
       "        </tr>\n",
       "        <tr>\n",
       "            <td>AL   </td> <td>6                              </td>\n",
       "        </tr>\n",
       "        <tr>\n",
       "            <td>AL   </td> <td>6                              </td>\n",
       "        </tr>\n",
       "        <tr>\n",
       "            <td>AL   </td> <td>3                              </td>\n",
       "        </tr>\n",
       "    </tbody>\n",
       "</table>\n",
       "<p>... (3184 rows omitted)</p>"
      ],
      "text/plain": [
       "State | Rural-urban_Continuum_Code_2003\n",
       "US    | nan\n",
       "AL    | nan\n",
       "AL    | 2\n",
       "AL    | 4\n",
       "AL    | 6\n",
       "AL    | 1\n",
       "AL    | 1\n",
       "AL    | 6\n",
       "AL    | 6\n",
       "AL    | 3\n",
       "... (3184 rows omitted)"
      ]
     },
     "execution_count": 30,
     "metadata": {},
     "output_type": "execute_result"
    }
   ],
   "source": [
    "newData = Data.select(\"State\", \"Rural-urban_Continuum_Code_2003\")\n",
    "newData"
   ]
  },
  {
   "cell_type": "code",
   "execution_count": 33,
   "metadata": {},
   "outputs": [
    {
     "name": "stderr",
     "output_type": "stream",
     "text": [
      "/Users/hudie/opt/anaconda3/lib/python3.7/site-packages/datascience/predicates.py:261: SyntaxWarning: Do not pass an array or list to a predicate.                 If you are trying to find rows where two columns are the                 same, use table.where('c', are.equal_to, table.column('d'))                instead of table.where('c', are.equal_to(table.column('d'))).\n",
      "  SyntaxWarning)\n"
     ]
    },
    {
     "data": {
      "text/html": [
       "<table border=\"1\" class=\"dataframe\">\n",
       "    <thead>\n",
       "        <tr>\n",
       "            <th>State</th> <th>Rural-urban_Continuum_Code_2003</th>\n",
       "        </tr>\n",
       "    </thead>\n",
       "    <tbody>\n",
       "        <tr>\n",
       "            <td>IL   </td> <td>nan                            </td>\n",
       "        </tr>\n",
       "        <tr>\n",
       "            <td>IL   </td> <td>5                              </td>\n",
       "        </tr>\n",
       "        <tr>\n",
       "            <td>IL   </td> <td>7                              </td>\n",
       "        </tr>\n",
       "        <tr>\n",
       "            <td>IL   </td> <td>1                              </td>\n",
       "        </tr>\n",
       "        <tr>\n",
       "            <td>IL   </td> <td>2                              </td>\n",
       "        </tr>\n",
       "        <tr>\n",
       "            <td>IL   </td> <td>7                              </td>\n",
       "        </tr>\n",
       "        <tr>\n",
       "            <td>IL   </td> <td>6                              </td>\n",
       "        </tr>\n",
       "        <tr>\n",
       "            <td>IL   </td> <td>1                              </td>\n",
       "        </tr>\n",
       "        <tr>\n",
       "            <td>IL   </td> <td>7                              </td>\n",
       "        </tr>\n",
       "        <tr>\n",
       "            <td>IL   </td> <td>6                              </td>\n",
       "        </tr>\n",
       "    </tbody>\n",
       "</table>\n",
       "<p>... (396 rows omitted)</p>"
      ],
      "text/plain": [
       "State | Rural-urban_Continuum_Code_2003\n",
       "IL    | nan\n",
       "IL    | 5\n",
       "IL    | 7\n",
       "IL    | 1\n",
       "IL    | 2\n",
       "IL    | 7\n",
       "IL    | 6\n",
       "IL    | 1\n",
       "IL    | 7\n",
       "IL    | 6\n",
       "... (396 rows omitted)"
      ]
     },
     "execution_count": 33,
     "metadata": {},
     "output_type": "execute_result"
    }
   ],
   "source": [
    "option = make_array(\"IN\",\"KY\",\"IL\",\"OH\")\n",
    "selectedData = newData.where(\"State\", option)\n",
    "selectedData"
   ]
  },
  {
   "cell_type": "code",
   "execution_count": 38,
   "metadata": {},
   "outputs": [
    {
     "ename": "AttributeError",
     "evalue": "'numpy.ndarray' object has no attribute 'notnull'",
     "output_type": "error",
     "traceback": [
      "\u001b[0;31m---------------------------------------------------------------------------\u001b[0m",
      "\u001b[0;31mAttributeError\u001b[0m                            Traceback (most recent call last)",
      "\u001b[0;32m<ipython-input-38-e64b0605091a>\u001b[0m in \u001b[0;36m<module>\u001b[0;34m\u001b[0m\n\u001b[0;32m----> 1\u001b[0;31m \u001b[0mselectedData\u001b[0m\u001b[0;34m[\u001b[0m\u001b[0mselectedData\u001b[0m\u001b[0;34m.\u001b[0m\u001b[0mcolumn\u001b[0m\u001b[0;34m(\u001b[0m\u001b[0;34m\"State\"\u001b[0m\u001b[0;34m)\u001b[0m\u001b[0;34m.\u001b[0m\u001b[0mnotnull\u001b[0m\u001b[0;34m(\u001b[0m\u001b[0;34m)\u001b[0m\u001b[0;34m]\u001b[0m\u001b[0;34m\u001b[0m\u001b[0;34m\u001b[0m\u001b[0m\n\u001b[0m",
      "\u001b[0;31mAttributeError\u001b[0m: 'numpy.ndarray' object has no attribute 'notnull'"
     ]
    }
   ],
   "source": [
    "selectedData[selectedData.column(\"State\").notnull()]"
   ]
  },
  {
   "cell_type": "code",
   "execution_count": null,
   "metadata": {},
   "outputs": [],
   "source": []
  }
 ],
 "metadata": {
  "kernelspec": {
   "display_name": "Python 3",
   "language": "python",
   "name": "python3"
  },
  "language_info": {
   "codemirror_mode": {
    "name": "ipython",
    "version": 3
   },
   "file_extension": ".py",
   "mimetype": "text/x-python",
   "name": "python",
   "nbconvert_exporter": "python",
   "pygments_lexer": "ipython3",
   "version": "3.7.4"
  }
 },
 "nbformat": 4,
 "nbformat_minor": 2
}
