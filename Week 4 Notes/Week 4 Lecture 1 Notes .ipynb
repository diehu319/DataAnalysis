{
 "cells": [
  {
   "cell_type": "code",
   "execution_count": 20,
   "metadata": {},
   "outputs": [],
   "source": [
    "from datascience import *\n",
    "import pandas as pd\n",
    "import numpy as np"
   ]
  },
  {
   "cell_type": "code",
   "execution_count": 14,
   "metadata": {},
   "outputs": [
    {
     "data": {
      "text/html": [
       "<table border=\"1\" class=\"dataframe\">\n",
       "    <thead>\n",
       "        <tr>\n",
       "            <th>Person</th> <th>Age</th>\n",
       "        </tr>\n",
       "    </thead>\n",
       "    <tbody>\n",
       "        <tr>\n",
       "            <td>A     </td> <td>17  </td>\n",
       "        </tr>\n",
       "        <tr>\n",
       "            <td>B     </td> <td>117 </td>\n",
       "        </tr>\n",
       "        <tr>\n",
       "            <td>C     </td> <td>52  </td>\n",
       "        </tr>\n",
       "        <tr>\n",
       "            <td>D     </td> <td>100 </td>\n",
       "        </tr>\n",
       "        <tr>\n",
       "            <td>E     </td> <td>6   </td>\n",
       "        </tr>\n",
       "        <tr>\n",
       "            <td>F     </td> <td>101 </td>\n",
       "        </tr>\n",
       "    </tbody>\n",
       "</table>"
      ],
      "text/plain": [
       "Person | Age\n",
       "A      | 17\n",
       "B      | 117\n",
       "C      | 52\n",
       "D      | 100\n",
       "E      | 6\n",
       "F      | 101"
      ]
     },
     "execution_count": 14,
     "metadata": {},
     "output_type": "execute_result"
    }
   ],
   "source": [
    "# make Table\n",
    "ages = Table().with_columns(\n",
    "    'Person', make_array('A', 'B', 'C', 'D', 'E', 'F'),\n",
    "    'Age', make_array(17, 117, 52, 100, 6, 101)\n",
    ")\n",
    "ages"
   ]
  },
  {
   "cell_type": "code",
   "execution_count": 17,
   "metadata": {},
   "outputs": [
    {
     "data": {
      "text/html": [
       "<table border=\"1\" class=\"dataframe\">\n",
       "    <thead>\n",
       "        <tr>\n",
       "            <th>Person</th> <th>Age</th> <th>Old?</th>\n",
       "        </tr>\n",
       "    </thead>\n",
       "    <tbody>\n",
       "        <tr>\n",
       "            <td>A     </td> <td>17  </td> <td>False</td>\n",
       "        </tr>\n",
       "        <tr>\n",
       "            <td>B     </td> <td>117 </td> <td>True </td>\n",
       "        </tr>\n",
       "        <tr>\n",
       "            <td>C     </td> <td>52  </td> <td>True </td>\n",
       "        </tr>\n",
       "        <tr>\n",
       "            <td>D     </td> <td>100 </td> <td>True </td>\n",
       "        </tr>\n",
       "        <tr>\n",
       "            <td>E     </td> <td>6   </td> <td>False</td>\n",
       "        </tr>\n",
       "        <tr>\n",
       "            <td>F     </td> <td>101 </td> <td>True </td>\n",
       "        </tr>\n",
       "    </tbody>\n",
       "</table>"
      ],
      "text/plain": [
       "Person | Age  | Old?\n",
       "A      | 17   | False\n",
       "B      | 117  | True\n",
       "C      | 52   | True\n",
       "D      | 100  | True\n",
       "E      | 6    | False\n",
       "F      | 101  | True"
      ]
     },
     "execution_count": 17,
     "metadata": {},
     "output_type": "execute_result"
    }
   ],
   "source": [
    "# Table.apply() takes a function and a column of a Table object, and applies the function to each value in the Table.\n",
    "def old_ym(num):\n",
    "    return num >= 50\n",
    "ages = ages.with_column(\"Old?\",ages.apply(old_ym, \"Age\"))\n",
    "ages"
   ]
  },
  {
   "cell_type": "code",
   "execution_count": 18,
   "metadata": {},
   "outputs": [],
   "source": [
    "# map(): takes two arguments - a function and an iterable and applies the function to each value the iterable. The \n",
    "# output is another iterable."
   ]
  },
  {
   "cell_type": "code",
   "execution_count": null,
   "metadata": {},
   "outputs": [],
   "source": [
    "# Dirty Data: inconsistent, inaccurate, incomplete\n",
    "# Cleaning Data: 60-80% data professionals' work on average.\n",
    "\n",
    "# Data Issues:\n",
    "# How many unique values?  Too many? Which values?  \n",
    "# Sort them to find misspellings. What is the max/min? Outside of appropriate range? \n",
    "# What is the variance/deviation?  Higher than threshold?\n",
    "# Missing values:\n",
    "# How many nulls/defaults?  Too many, suggesting missing values?\n",
    "# Duplicate values:\n",
    "# Uniqueness: do the number of values = number of records?"
   ]
  },
  {
   "cell_type": "code",
   "execution_count": 24,
   "metadata": {},
   "outputs": [
    {
     "data": {
      "text/html": [
       "<table border=\"1\" class=\"dataframe\">\n",
       "    <thead>\n",
       "        <tr>\n",
       "            <th>Timestamp</th> <th>What year are you in your indergrad career?</th> <th>What's your age?</th> <th>What's your major/minor/cognate?</th> <th>Select any of the following courses you have taken:</th> <th>What are some topics of interest to you, academic or otherwise?</th> <th>How familiar are you with each of the following: [Linear regression]</th> <th>How familiar are you with each of the following: [Classification]</th> <th>How familiar are you with each of the following: [Permutation testing/bootstrapping]</th> <th>How familiar are you with each of the following: [Correlation]</th> <th>How familiar are you with each of the following: [Cluster Analysis]</th> <th>Any personal concerns that you have about the course?</th>\n",
       "        </tr>\n",
       "    </thead>\n",
       "    <tbody>\n",
       "        <tr>\n",
       "            <td>1/13/2020 13:39</td> <td>Senor                                      </td> <td>22              </td> <td>Computer science / business                                 </td> <td>Machine Learning                                   </td> <td>Just really enjoy python                                       </td> <td>Vaguely familiar                                                    </td> <td>Never heard of it                                                </td> <td>Used it once                                                                        </td> <td>Used it once                                                  </td> <td>Vaguely familiar                                                   </td> <td>No                                                          </td>\n",
       "        </tr>\n",
       "        <tr>\n",
       "            <td>1/13/2020 13:39</td> <td>Sophomore                                  </td> <td>19              </td> <td>Finance and Business Analytics                              </td> <td>Statistics                                         </td> <td>Finance, Business, Technology                                  </td> <td>Vaguely familiar                                                    </td> <td>Vaguely familiar                                                 </td> <td>Vaguely familiar                                                                    </td> <td>Vaguely familiar                                              </td> <td>Vaguely familiar                                                   </td> <td>That I will need a lot of coding experience/skills          </td>\n",
       "        </tr>\n",
       "        <tr>\n",
       "            <td>1/13/2020 13:39</td> <td>Senior                                     </td> <td>21              </td> <td>Security                                                    </td> <td>Search Informatics, Statistics                     </td> <td>Findings trends in Big Data                                    </td> <td>Vaguely familiar                                                    </td> <td>Never heard of it                                                </td> <td>Vaguely familiar                                                                    </td> <td>Used it once                                                  </td> <td>Used it once                                                       </td> <td>I am okay at math and my statistics professor was not th ...</td>\n",
       "        </tr>\n",
       "        <tr>\n",
       "            <td>1/13/2020 13:40</td> <td>Senior                                     </td> <td>21              </td> <td>Informatics with a minor/cognate in security                </td> <td>Statistics                                         </td> <td>Cyber security                                                 </td> <td>Used it once                                                        </td> <td>Vaguely familiar                                                 </td> <td>Used it once                                                                        </td> <td>Pretty comfortable                                            </td> <td>Pretty comfortable                                                 </td> <td>Nope                                                        </td>\n",
       "        </tr>\n",
       "        <tr>\n",
       "            <td>1/13/2020 13:41</td> <td>Junior                                     </td> <td>21              </td> <td>Major: Informatics Minor: Business                          </td> <td>Statistics                                         </td> <td>Web Scraping and Machine learning                              </td> <td>Vaguely familiar                                                    </td> <td>Never heard of it                                                </td> <td>Never heard of it                                                                   </td> <td>Vaguely familiar                                              </td> <td>Never heard of it                                                  </td> <td>nan                                                         </td>\n",
       "        </tr>\n",
       "        <tr>\n",
       "            <td>1/13/2020 13:41</td> <td>It's complicated (other)                   </td> <td>31              </td> <td>Major: Informatics Minor: HCC Cognate: Graphic Design (A ...</td> <td>Statistics                                         </td> <td>Design                                                         </td> <td>Vaguely familiar                                                    </td> <td>Vaguely familiar                                                 </td> <td>Never heard of it                                                                   </td> <td>Pretty comfortable                                            </td> <td>Vaguely familiar                                                   </td> <td>I won't have completed enough projects to prove my skill ...</td>\n",
       "        </tr>\n",
       "        <tr>\n",
       "            <td>1/13/2020 13:54</td> <td>Senior                                     </td> <td>20              </td> <td>Information Systems                                         </td> <td>Data Visualization, Statistics, Machine Learning   </td> <td>Deep Learning                                                  </td> <td>Pretty comfortable                                                  </td> <td>Used it once                                                     </td> <td>Vaguely familiar                                                                    </td> <td>Pretty comfortable                                            </td> <td>Vaguely familiar                                                   </td> <td>nan                                                         </td>\n",
       "        </tr>\n",
       "        <tr>\n",
       "            <td>1/13/2020 13:54</td> <td>Senior                                     </td> <td>2               </td> <td>Finance                                                     </td> <td>Statistics                                         </td> <td>Learning business applications of python, practical applica ...</td> <td>Pretty comfortable                                                  </td> <td>Vaguely familiar                                                 </td> <td>Never heard of it                                                                   </td> <td>Pretty comfortable                                            </td> <td>Vaguely familiar                                                   </td> <td>Course difficulty for beginners in python, I have only t ...</td>\n",
       "        </tr>\n",
       "        <tr>\n",
       "            <td>1/13/2020 13:58</td> <td>Junior                                     </td> <td>nan             </td> <td>nan                                                         </td> <td>Statistics                                         </td> <td>Just Data Analytics in general                                 </td> <td>Vaguely familiar                                                    </td> <td>Vaguely familiar                                                 </td> <td>Used it once                                                                        </td> <td>Used it once                                                  </td> <td>Used it once                                                       </td> <td>Pyhton                                                      </td>\n",
       "        </tr>\n",
       "        <tr>\n",
       "            <td>1/13/2020 14:00</td> <td>Senior                                     </td> <td>2               </td> <td>Informatics/Security/Computer Science                       </td> <td>Search Informatics, Statistics                     </td> <td>Machine Learning/AI, IT systems, big data, entrepreneurship    </td> <td>Used it once                                                        </td> <td>Vaguely familiar                                                 </td> <td>Vaguely familiar                                                                    </td> <td>Used it once                                                  </td> <td>Vaguely familiar                                                   </td> <td>Just need an introduction into the usage of the above to ...</td>\n",
       "        </tr>\n",
       "    </tbody>\n",
       "</table>\n",
       "<p>... (15 rows omitted)</p>"
      ],
      "text/plain": [
       "Timestamp       | What year are you in your indergrad career? | What's your age? | What's your major/minor/cognate?                             | Select any of the following courses you have taken: | What are some topics of interest to you, academic or otherwise? | How familiar are you with each of the following: [Linear regression] | How familiar are you with each of the following: [Classification] | How familiar are you with each of the following: [Permutation testing/bootstrapping] | How familiar are you with each of the following: [Correlation] | How familiar are you with each of the following: [Cluster Analysis] | Any personal concerns that you have about the course?\n",
       "1/13/2020 13:39 | Senor                                       | 22               | Computer science / business                                  | Machine Learning                                    | Just really enjoy python                                        | Vaguely familiar                                                     | Never heard of it                                                 | Used it once                                                                         | Used it once                                                   | Vaguely familiar                                                    | No\n",
       "1/13/2020 13:39 | Sophomore                                   | 19               | Finance and Business Analytics                               | Statistics                                          | Finance, Business, Technology                                   | Vaguely familiar                                                     | Vaguely familiar                                                  | Vaguely familiar                                                                     | Vaguely familiar                                               | Vaguely familiar                                                    | That I will need a lot of coding experience/skills\n",
       "1/13/2020 13:39 | Senior                                      | 21               | Security                                                     | Search Informatics, Statistics                      | Findings trends in Big Data                                     | Vaguely familiar                                                     | Never heard of it                                                 | Vaguely familiar                                                                     | Used it once                                                   | Used it once                                                        | I am okay at math and my statistics professor was not th ...\n",
       "1/13/2020 13:40 | Senior                                      | 21               | Informatics with a minor/cognate in security                 | Statistics                                          | Cyber security                                                  | Used it once                                                         | Vaguely familiar                                                  | Used it once                                                                         | Pretty comfortable                                             | Pretty comfortable                                                  | Nope\n",
       "1/13/2020 13:41 | Junior                                      | 21               | Major: Informatics Minor: Business                           | Statistics                                          | Web Scraping and Machine learning                               | Vaguely familiar                                                     | Never heard of it                                                 | Never heard of it                                                                    | Vaguely familiar                                               | Never heard of it                                                   | nan\n",
       "1/13/2020 13:41 | It's complicated (other)                    | 31               | Major: Informatics Minor: HCC Cognate: Graphic Design (A ... | Statistics                                          | Design                                                          | Vaguely familiar                                                     | Vaguely familiar                                                  | Never heard of it                                                                    | Pretty comfortable                                             | Vaguely familiar                                                    | I won't have completed enough projects to prove my skill ...\n",
       "1/13/2020 13:54 | Senior                                      | 20               | Information Systems                                          | Data Visualization, Statistics, Machine Learning    | Deep Learning                                                   | Pretty comfortable                                                   | Used it once                                                      | Vaguely familiar                                                                     | Pretty comfortable                                             | Vaguely familiar                                                    | nan\n",
       "1/13/2020 13:54 | Senior                                      | 2                | Finance                                                      | Statistics                                          | Learning business applications of python, practical applica ... | Pretty comfortable                                                   | Vaguely familiar                                                  | Never heard of it                                                                    | Pretty comfortable                                             | Vaguely familiar                                                    | Course difficulty for beginners in python, I have only t ...\n",
       "1/13/2020 13:58 | Junior                                      | nan              | nan                                                          | Statistics                                          | Just Data Analytics in general                                  | Vaguely familiar                                                     | Vaguely familiar                                                  | Used it once                                                                         | Used it once                                                   | Used it once                                                        | Pyhton\n",
       "1/13/2020 14:00 | Senior                                      | 2                | Informatics/Security/Computer Science                        | Search Informatics, Statistics                      | Machine Learning/AI, IT systems, big data, entrepreneurship     | Used it once                                                         | Vaguely familiar                                                  | Vaguely familiar                                                                     | Used it once                                                   | Vaguely familiar                                                    | Just need an introduction into the usage of the above to ...\n",
       "... (15 rows omitted)"
      ]
     },
     "execution_count": 24,
     "metadata": {},
     "output_type": "execute_result"
    }
   ],
   "source": [
    "# Finding issues\n",
    "Data = Table.read_table(\"survey_bad.csv\")\n",
    "Data"
   ]
  },
  {
   "cell_type": "code",
   "execution_count": 30,
   "metadata": {},
   "outputs": [
    {
     "data": {
      "text/html": [
       "<table border=\"1\" class=\"dataframe\">\n",
       "    <thead>\n",
       "        <tr>\n",
       "            <th>What year are you in your indergrad career?</th> <th>count</th>\n",
       "        </tr>\n",
       "    </thead>\n",
       "    <tbody>\n",
       "        <tr>\n",
       "            <td>It's complicated (other)                   </td> <td>1    </td>\n",
       "        </tr>\n",
       "        <tr>\n",
       "            <td>Junior                                     </td> <td>5    </td>\n",
       "        </tr>\n",
       "        <tr>\n",
       "            <td>Senior                                     </td> <td>17   </td>\n",
       "        </tr>\n",
       "        <tr>\n",
       "            <td>Senor                                      </td> <td>1    </td>\n",
       "        </tr>\n",
       "        <tr>\n",
       "            <td>Sophomore                                  </td> <td>1    </td>\n",
       "        </tr>\n",
       "    </tbody>\n",
       "</table>"
      ],
      "text/plain": [
       "What year are you in your indergrad career? | count\n",
       "It's complicated (other)                    | 1\n",
       "Junior                                      | 5\n",
       "Senior                                      | 17\n",
       "Senor                                       | 1\n",
       "Sophomore                                   | 1"
      ]
     },
     "execution_count": 30,
     "metadata": {},
     "output_type": "execute_result"
    }
   ],
   "source": [
    "# list(set(Data.with_column(\"Timesstamp\")))\n",
    "newD = Data.group(\"What year are you in your indergrad career?\")\n",
    "newD"
   ]
  },
  {
   "cell_type": "code",
   "execution_count": 32,
   "metadata": {},
   "outputs": [
    {
     "ename": "AttributeError",
     "evalue": "'Table' object has no attribute 'replace'",
     "output_type": "error",
     "traceback": [
      "\u001b[0;31m---------------------------------------------------------------------------\u001b[0m",
      "\u001b[0;31mAttributeError\u001b[0m                            Traceback (most recent call last)",
      "\u001b[0;32m<ipython-input-32-6330e19bf384>\u001b[0m in \u001b[0;36m<module>\u001b[0;34m\u001b[0m\n\u001b[0;32m----> 1\u001b[0;31m \u001b[0mnewD\u001b[0m\u001b[0;34m.\u001b[0m\u001b[0mreplace\u001b[0m\u001b[0;34m(\u001b[0m\u001b[0mto_replace\u001b[0m \u001b[0;34m=\u001b[0m \u001b[0;34m\"Senor\"\u001b[0m\u001b[0;34m,\u001b[0m \u001b[0mvalue\u001b[0m \u001b[0;34m=\u001b[0m \u001b[0;34m\"Senior\"\u001b[0m\u001b[0;34m)\u001b[0m\u001b[0;34m\u001b[0m\u001b[0;34m\u001b[0m\u001b[0m\n\u001b[0m",
      "\u001b[0;32m~/opt/anaconda3/lib/python3.7/site-packages/datascience/tables.py\u001b[0m in \u001b[0;36m__getattr__\u001b[0;34m(self, attr)\u001b[0m\n\u001b[1;32m    204\u001b[0m         \u001b[0;32melse\u001b[0m\u001b[0;34m:\u001b[0m\u001b[0;34m\u001b[0m\u001b[0;34m\u001b[0m\u001b[0m\n\u001b[1;32m    205\u001b[0m             \u001b[0mmsg\u001b[0m \u001b[0;34m=\u001b[0m \u001b[0;34m\"'{0}' object has no attribute '{1}'\"\u001b[0m\u001b[0;34m.\u001b[0m\u001b[0mformat\u001b[0m\u001b[0;34m(\u001b[0m\u001b[0mtype\u001b[0m\u001b[0;34m(\u001b[0m\u001b[0mself\u001b[0m\u001b[0;34m)\u001b[0m\u001b[0;34m.\u001b[0m\u001b[0m__name__\u001b[0m\u001b[0;34m,\u001b[0m \u001b[0mattr\u001b[0m\u001b[0;34m)\u001b[0m\u001b[0;34m\u001b[0m\u001b[0;34m\u001b[0m\u001b[0m\n\u001b[0;32m--> 206\u001b[0;31m             \u001b[0;32mraise\u001b[0m \u001b[0mAttributeError\u001b[0m\u001b[0;34m(\u001b[0m\u001b[0mmsg\u001b[0m\u001b[0;34m)\u001b[0m\u001b[0;34m\u001b[0m\u001b[0;34m\u001b[0m\u001b[0m\n\u001b[0m\u001b[1;32m    207\u001b[0m \u001b[0;34m\u001b[0m\u001b[0m\n\u001b[1;32m    208\u001b[0m     \u001b[0;31m####################\u001b[0m\u001b[0;34m\u001b[0m\u001b[0;34m\u001b[0m\u001b[0;34m\u001b[0m\u001b[0m\n",
      "\u001b[0;31mAttributeError\u001b[0m: 'Table' object has no attribute 'replace'"
     ]
    }
   ],
   "source": [
    "newD.replace(to_replace = \"Senor\", value = \"Senior\")"
   ]
  }
 ],
 "metadata": {
  "kernelspec": {
   "display_name": "Python 3",
   "language": "python",
   "name": "python3"
  },
  "language_info": {
   "codemirror_mode": {
    "name": "ipython",
    "version": 3
   },
   "file_extension": ".py",
   "mimetype": "text/x-python",
   "name": "python",
   "nbconvert_exporter": "python",
   "pygments_lexer": "ipython3",
   "version": "3.7.4"
  }
 },
 "nbformat": 4,
 "nbformat_minor": 2
}
