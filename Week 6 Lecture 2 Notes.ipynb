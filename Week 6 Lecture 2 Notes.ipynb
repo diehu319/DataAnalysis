{
 "cells": [
  {
   "cell_type": "code",
   "execution_count": 1,
   "metadata": {},
   "outputs": [],
   "source": [
    "import numpy as np\n",
    "import math\n",
    "from datascience import *\n",
    "\n",
    "import matplotlib\n",
    "%matplotlib inline\n",
    "import matplotlib.pyplot as plots"
   ]
  },
  {
   "cell_type": "code",
   "execution_count": 2,
   "metadata": {},
   "outputs": [
    {
     "data": {
      "text/html": [
       "<table border=\"1\" class=\"dataframe\">\n",
       "    <thead>\n",
       "        <tr>\n",
       "            <th>Response Times</th> <th>YTD</th> <th>Jan</th> <th>Feb</th> <th>Mar</th> <th>Apr</th> <th>May</th> <th>Jun</th> <th>Jul</th> <th>Aug</th> <th>Sep</th> <th>Oct</th> <th>Nov</th> <th>Dec</th>\n",
       "        </tr>\n",
       "    </thead>\n",
       "    <tbody>\n",
       "        <tr>\n",
       "            <td>< 1:00        </td> <td>294 </td> <td>32  </td> <td>13  </td> <td>14  </td> <td>30  </td> <td>27  </td> <td>17  </td> <td>21  </td> <td>33  </td> <td>35  </td> <td>30  </td> <td>25  </td> <td>17  </td>\n",
       "        </tr>\n",
       "        <tr>\n",
       "            <td>1:00  to  1:59</td> <td>989 </td> <td>90  </td> <td>78  </td> <td>57  </td> <td>77  </td> <td>59  </td> <td>69  </td> <td>89  </td> <td>89  </td> <td>114 </td> <td>109 </td> <td>86  </td> <td>72  </td>\n",
       "        </tr>\n",
       "        <tr>\n",
       "            <td>2:00  to  2:59</td> <td>1296</td> <td>172 </td> <td>88  </td> <td>81  </td> <td>90  </td> <td>81  </td> <td>76  </td> <td>86  </td> <td>126 </td> <td>134 </td> <td>160 </td> <td>105 </td> <td>97  </td>\n",
       "        </tr>\n",
       "        <tr>\n",
       "            <td>3:00  to  3:59</td> <td>1127</td> <td>126 </td> <td>86  </td> <td>68  </td> <td>91  </td> <td>65  </td> <td>80  </td> <td>107 </td> <td>101 </td> <td>109 </td> <td>115 </td> <td>94  </td> <td>85  </td>\n",
       "        </tr>\n",
       "        <tr>\n",
       "            <td>4:00  to  4:59</td> <td>690 </td> <td>73  </td> <td>57  </td> <td>68  </td> <td>55  </td> <td>57  </td> <td>47  </td> <td>58  </td> <td>79  </td> <td>58  </td> <td>55  </td> <td>46  </td> <td>37  </td>\n",
       "        </tr>\n",
       "        <tr>\n",
       "            <td>5:00  to  5:59</td> <td>457 </td> <td>52  </td> <td>38  </td> <td>44  </td> <td>28  </td> <td>43  </td> <td>35  </td> <td>35  </td> <td>32  </td> <td>40  </td> <td>36  </td> <td>37  </td> <td>37  </td>\n",
       "        </tr>\n",
       "        <tr>\n",
       "            <td>6:00  to  6:59</td> <td>227 </td> <td>28  </td> <td>13  </td> <td>15  </td> <td>18  </td> <td>16  </td> <td>17  </td> <td>20  </td> <td>17  </td> <td>19  </td> <td>26  </td> <td>15  </td> <td>23  </td>\n",
       "        </tr>\n",
       "        <tr>\n",
       "            <td>7:00  to  7:59</td> <td>117 </td> <td>20  </td> <td>4   </td> <td>12  </td> <td>6   </td> <td>15  </td> <td>10  </td> <td>12  </td> <td>11  </td> <td>3   </td> <td>10  </td> <td>7   </td> <td>7   </td>\n",
       "        </tr>\n",
       "        <tr>\n",
       "            <td>8:00  to  8:59</td> <td>54  </td> <td>6   </td> <td>2   </td> <td>3   </td> <td>4   </td> <td>5   </td> <td>4   </td> <td>5   </td> <td>6   </td> <td>8   </td> <td>5   </td> <td>4   </td> <td>2   </td>\n",
       "        </tr>\n",
       "        <tr>\n",
       "            <td>9:00  to  9:59</td> <td>27  </td> <td>4   </td> <td>2   </td> <td>3   </td> <td>3   </td> <td>3   </td> <td>3   </td> <td>3   </td> <td>1   </td> <td>2   </td> <td>0   </td> <td>1   </td> <td>2   </td>\n",
       "        </tr>\n",
       "    </tbody>\n",
       "</table>\n",
       "<p>... (11 rows omitted)</p>"
      ],
      "text/plain": [
       "Response Times | YTD  | Jan  | Feb  | Mar  | Apr  | May  | Jun  | Jul  | Aug  | Sep  | Oct  | Nov  | Dec\n",
       "< 1:00         | 294  | 32   | 13   | 14   | 30   | 27   | 17   | 21   | 33   | 35   | 30   | 25   | 17\n",
       "1:00  to  1:59 | 989  | 90   | 78   | 57   | 77   | 59   | 69   | 89   | 89   | 114  | 109  | 86   | 72\n",
       "2:00  to  2:59 | 1296 | 172  | 88   | 81   | 90   | 81   | 76   | 86   | 126  | 134  | 160  | 105  | 97\n",
       "3:00  to  3:59 | 1127 | 126  | 86   | 68   | 91   | 65   | 80   | 107  | 101  | 109  | 115  | 94   | 85\n",
       "4:00  to  4:59 | 690  | 73   | 57   | 68   | 55   | 57   | 47   | 58   | 79   | 58   | 55   | 46   | 37\n",
       "5:00  to  5:59 | 457  | 52   | 38   | 44   | 28   | 43   | 35   | 35   | 32   | 40   | 36   | 37   | 37\n",
       "6:00  to  6:59 | 227  | 28   | 13   | 15   | 18   | 16   | 17   | 20   | 17   | 19   | 26   | 15   | 23\n",
       "7:00  to  7:59 | 117  | 20   | 4    | 12   | 6    | 15   | 10   | 12   | 11   | 3    | 10   | 7    | 7\n",
       "8:00  to  8:59 | 54   | 6    | 2    | 3    | 4    | 5    | 4    | 5    | 6    | 8    | 5    | 4    | 2\n",
       "9:00  to  9:59 | 27   | 4    | 2    | 3    | 3    | 3    | 3    | 3    | 1    | 2    | 0    | 1    | 2\n",
       "... (11 rows omitted)"
      ]
     },
     "execution_count": 2,
     "metadata": {},
     "output_type": "execute_result"
    }
   ],
   "source": [
    "data = Table.read_table(\"2018-response-time-analysis.csv\")\n",
    "data"
   ]
  },
  {
   "cell_type": "code",
   "execution_count": 16,
   "metadata": {},
   "outputs": [
    {
     "data": {
      "text/html": [
       "<table border=\"1\" class=\"dataframe\">\n",
       "    <thead>\n",
       "        <tr>\n",
       "            <th>Response Times</th> <th>YTD</th>\n",
       "        </tr>\n",
       "    </thead>\n",
       "    <tbody>\n",
       "        <tr>\n",
       "            <td>< 1:00        </td> <td>294 </td>\n",
       "        </tr>\n",
       "        <tr>\n",
       "            <td>1:00  to  1:59</td> <td>989 </td>\n",
       "        </tr>\n",
       "        <tr>\n",
       "            <td>2:00  to  2:59</td> <td>1296</td>\n",
       "        </tr>\n",
       "        <tr>\n",
       "            <td>3:00  to  3:59</td> <td>1127</td>\n",
       "        </tr>\n",
       "        <tr>\n",
       "            <td>4:00  to  4:59</td> <td>690 </td>\n",
       "        </tr>\n",
       "        <tr>\n",
       "            <td>5:00  to  5:59</td> <td>457 </td>\n",
       "        </tr>\n",
       "        <tr>\n",
       "            <td>6:00  to  6:59</td> <td>227 </td>\n",
       "        </tr>\n",
       "        <tr>\n",
       "            <td>7:00  to  7:59</td> <td>117 </td>\n",
       "        </tr>\n",
       "        <tr>\n",
       "            <td>8:00  to  8:59</td> <td>54  </td>\n",
       "        </tr>\n",
       "        <tr>\n",
       "            <td>9:00  to  9:59</td> <td>27  </td>\n",
       "        </tr>\n",
       "    </tbody>\n",
       "</table>\n",
       "<p>... (11 rows omitted)</p>"
      ],
      "text/plain": [
       "Response Times | YTD\n",
       "< 1:00         | 294\n",
       "1:00  to  1:59 | 989\n",
       "2:00  to  2:59 | 1296\n",
       "3:00  to  3:59 | 1127\n",
       "4:00  to  4:59 | 690\n",
       "5:00  to  5:59 | 457\n",
       "6:00  to  6:59 | 227\n",
       "7:00  to  7:59 | 117\n",
       "8:00  to  8:59 | 54\n",
       "9:00  to  9:59 | 27\n",
       "... (11 rows omitted)"
      ]
     },
     "execution_count": 16,
     "metadata": {},
     "output_type": "execute_result"
    }
   ],
   "source": [
    "a = data.select(\"Response Times\", \"YTD\")\n",
    "a"
   ]
  },
  {
   "cell_type": "code",
   "execution_count": 17,
   "metadata": {},
   "outputs": [
    {
     "data": {
      "image/png": "[encoded data removed]",
      "text/plain": [
       "<Figure size 432x756 with 1 Axes>"
      ]
     },
     "metadata": {
      "needs_background": "light"
     },
     "output_type": "display_data"
    }
   ],
   "source": [
    "a.barh(\"Response Times\",\"YTD\")"
   ]
  },
  {
   "cell_type": "markdown",
   "metadata": {},
   "source": [
    "*** My estimated average response time is between 3:00-3:59. ***"
   ]
  },
  {
   "cell_type": "code",
   "execution_count": 40,
   "metadata": {},
   "outputs": [
    {
     "data": {
      "text/html": [
       "<table border=\"1\" class=\"dataframe\">\n",
       "    <thead>\n",
       "        <tr>\n",
       "            <th>Response Times</th> <th>YTD</th> <th>Rts</th>\n",
       "        </tr>\n",
       "    </thead>\n",
       "    <tbody>\n",
       "        <tr>\n",
       "            <td>< 1:00        </td> <td>294 </td> <td>1   </td>\n",
       "        </tr>\n",
       "        <tr>\n",
       "            <td>1:00  to  1:59</td> <td>989 </td> <td>2   </td>\n",
       "        </tr>\n",
       "        <tr>\n",
       "            <td>2:00  to  2:59</td> <td>1296</td> <td>3   </td>\n",
       "        </tr>\n",
       "        <tr>\n",
       "            <td>3:00  to  3:59</td> <td>1127</td> <td>4   </td>\n",
       "        </tr>\n",
       "        <tr>\n",
       "            <td>4:00  to  4:59</td> <td>690 </td> <td>5   </td>\n",
       "        </tr>\n",
       "        <tr>\n",
       "            <td>5:00  to  5:59</td> <td>457 </td> <td>6   </td>\n",
       "        </tr>\n",
       "        <tr>\n",
       "            <td>6:00  to  6:59</td> <td>227 </td> <td>7   </td>\n",
       "        </tr>\n",
       "        <tr>\n",
       "            <td>7:00  to  7:59</td> <td>117 </td> <td>8   </td>\n",
       "        </tr>\n",
       "        <tr>\n",
       "            <td>8:00  to  8:59</td> <td>54  </td> <td>9   </td>\n",
       "        </tr>\n",
       "        <tr>\n",
       "            <td>9:00  to  9:59</td> <td>27  </td> <td>10  </td>\n",
       "        </tr>\n",
       "    </tbody>\n",
       "</table>\n",
       "<p>... (11 rows omitted)</p>"
      ],
      "text/plain": [
       "Response Times | YTD  | Rts\n",
       "< 1:00         | 294  | 1\n",
       "1:00  to  1:59 | 989  | 2\n",
       "2:00  to  2:59 | 1296 | 3\n",
       "3:00  to  3:59 | 1127 | 4\n",
       "4:00  to  4:59 | 690  | 5\n",
       "5:00  to  5:59 | 457  | 6\n",
       "6:00  to  6:59 | 227  | 7\n",
       "7:00  to  7:59 | 117  | 8\n",
       "8:00  to  8:59 | 54   | 9\n",
       "9:00  to  9:59 | 27   | 10\n",
       "... (11 rows omitted)"
      ]
     },
     "execution_count": 40,
     "metadata": {},
     "output_type": "execute_result"
    }
   ],
   "source": [
    "a.append_column(\"Rts\",np.arange(1, a.num_rows + 1, 1))"
   ]
  },
  {
   "cell_type": "code",
   "execution_count": 42,
   "metadata": {},
   "outputs": [
    {
     "data": {
      "text/plain": [
       "3.9118033402139236"
      ]
     },
     "execution_count": 42,
     "metadata": {},
     "output_type": "execute_result"
    }
   ],
   "source": [
    "sum(a.column(\"Rts\")*a.column(\"YTD\"))/sum(a.column(\"YTD\"))"
   ]
  },
  {
   "cell_type": "markdown",
   "metadata": {},
   "source": [
    "*** The Calculated average time is between 2:00 to 2:59. ***"
   ]
  },
  {
   "cell_type": "code",
   "execution_count": null,
   "metadata": {},
   "outputs": [],
   "source": []
  }
 ],
 "metadata": {
  "kernelspec": {
   "display_name": "Python 3",
   "language": "python",
   "name": "python3"
  },
  "language_info": {
   "codemirror_mode": {
    "name": "ipython",
    "version": 3
   },
   "file_extension": ".py",
   "mimetype": "text/x-python",
   "name": "python",
   "nbconvert_exporter": "python",
   "pygments_lexer": "ipython3",
   "version": "3.7.4"
  }
 },
 "nbformat": 4,
 "nbformat_minor": 2
}
