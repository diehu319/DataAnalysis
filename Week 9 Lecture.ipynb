{
 "cells": [
  {
   "cell_type": "code",
   "execution_count": 2,
   "metadata": {},
   "outputs": [],
   "source": [
    "from datascience import *\n",
    "import numpy as np\n",
    "\n",
    "%matplotlib inline\n",
    "import matplotlib.pyplot as plots"
   ]
  },
  {
   "cell_type": "code",
   "execution_count": 4,
   "metadata": {},
   "outputs": [
    {
     "data": {
      "text/html": [
       "<table border=\"1\" class=\"dataframe\">\n",
       "    <thead>\n",
       "        <tr>\n",
       "            <th>Date</th> <th>Flight Number</th> <th>Destination</th> <th>Delay</th>\n",
       "        </tr>\n",
       "    </thead>\n",
       "    <tbody>\n",
       "        <tr>\n",
       "            <td>6/1/15</td> <td>73           </td> <td>HNL        </td> <td>257  </td>\n",
       "        </tr>\n",
       "        <tr>\n",
       "            <td>6/1/15</td> <td>217          </td> <td>EWR        </td> <td>28   </td>\n",
       "        </tr>\n",
       "        <tr>\n",
       "            <td>6/1/15</td> <td>237          </td> <td>STL        </td> <td>-3   </td>\n",
       "        </tr>\n",
       "        <tr>\n",
       "            <td>6/1/15</td> <td>250          </td> <td>SAN        </td> <td>0    </td>\n",
       "        </tr>\n",
       "        <tr>\n",
       "            <td>6/1/15</td> <td>267          </td> <td>PHL        </td> <td>64   </td>\n",
       "        </tr>\n",
       "        <tr>\n",
       "            <td>6/1/15</td> <td>273          </td> <td>SEA        </td> <td>-6   </td>\n",
       "        </tr>\n",
       "        <tr>\n",
       "            <td>6/1/15</td> <td>278          </td> <td>SEA        </td> <td>-8   </td>\n",
       "        </tr>\n",
       "        <tr>\n",
       "            <td>6/1/15</td> <td>292          </td> <td>EWR        </td> <td>12   </td>\n",
       "        </tr>\n",
       "        <tr>\n",
       "            <td>6/1/15</td> <td>300          </td> <td>HNL        </td> <td>20   </td>\n",
       "        </tr>\n",
       "        <tr>\n",
       "            <td>6/1/15</td> <td>317          </td> <td>IND        </td> <td>-10  </td>\n",
       "        </tr>\n",
       "    </tbody>\n",
       "</table>\n",
       "<p>... (13815 rows omitted)</p>"
      ],
      "text/plain": [
       "Date   | Flight Number | Destination | Delay\n",
       "6/1/15 | 73            | HNL         | 257\n",
       "6/1/15 | 217           | EWR         | 28\n",
       "6/1/15 | 237           | STL         | -3\n",
       "6/1/15 | 250           | SAN         | 0\n",
       "6/1/15 | 267           | PHL         | 64\n",
       "6/1/15 | 273           | SEA         | -6\n",
       "6/1/15 | 278           | SEA         | -8\n",
       "6/1/15 | 292           | EWR         | 12\n",
       "6/1/15 | 300           | HNL         | 20\n",
       "6/1/15 | 317           | IND         | -10\n",
       "... (13815 rows omitted)"
      ]
     },
     "execution_count": 4,
     "metadata": {},
     "output_type": "execute_result"
    }
   ],
   "source": [
    "table = Table.read_table(\"united_summer2015.csv\")\n",
    "table"
   ]
  },
  {
   "cell_type": "code",
   "execution_count": 6,
   "metadata": {},
   "outputs": [
    {
     "data": {
      "image/png": "[encoded data removed]",
      "text/plain": [
       "<Figure size 432x288 with 1 Axes>"
      ]
     },
     "metadata": {
      "needs_background": "light"
     },
     "output_type": "display_data"
    }
   ],
   "source": [
    "table.hist(\"Delay\")"
   ]
  },
  {
   "cell_type": "code",
   "execution_count": 7,
   "metadata": {},
   "outputs": [
    {
     "data": {
      "text/plain": [
       "16.658155515370705"
      ]
     },
     "execution_count": 7,
     "metadata": {},
     "output_type": "execute_result"
    }
   ],
   "source": [
    "np.mean(table.column(\"Delay\"))"
   ]
  },
  {
   "cell_type": "code",
   "execution_count": 8,
   "metadata": {},
   "outputs": [
    {
     "data": {
      "text/plain": [
       "39.480199851609314"
      ]
     },
     "execution_count": 8,
     "metadata": {},
     "output_type": "execute_result"
    }
   ],
   "source": [
    "np.std(table.column(\"Delay\"))"
   ]
  },
  {
   "cell_type": "code",
   "execution_count": 9,
   "metadata": {},
   "outputs": [
    {
     "data": {
      "text/html": [
       "<table border=\"1\" class=\"dataframe\">\n",
       "    <thead>\n",
       "        <tr>\n",
       "            <th>Date</th> <th>Flight Number</th> <th>Destination</th> <th>Delay</th>\n",
       "        </tr>\n",
       "    </thead>\n",
       "    <tbody>\n",
       "        <tr>\n",
       "            <td>8/19/15</td> <td>719          </td> <td>IAD        </td> <td>60   </td>\n",
       "        </tr>\n",
       "        <tr>\n",
       "            <td>6/1/15 </td> <td>1405         </td> <td>LAS        </td> <td>-1   </td>\n",
       "        </tr>\n",
       "        <tr>\n",
       "            <td>6/28/15</td> <td>489          </td> <td>ORD        </td> <td>4    </td>\n",
       "        </tr>\n",
       "        <tr>\n",
       "            <td>8/2/15 </td> <td>526          </td> <td>DEN        </td> <td>-5   </td>\n",
       "        </tr>\n",
       "        <tr>\n",
       "            <td>8/8/15 </td> <td>1900         </td> <td>PHL        </td> <td>23   </td>\n",
       "        </tr>\n",
       "        <tr>\n",
       "            <td>6/18/15</td> <td>760          </td> <td>JFK        </td> <td>22   </td>\n",
       "        </tr>\n",
       "        <tr>\n",
       "            <td>8/21/15</td> <td>1735         </td> <td>PDX        </td> <td>1    </td>\n",
       "        </tr>\n",
       "        <tr>\n",
       "            <td>7/29/15</td> <td>1916         </td> <td>DEN        </td> <td>3    </td>\n",
       "        </tr>\n",
       "        <tr>\n",
       "            <td>8/5/15 </td> <td>887          </td> <td>LAX        </td> <td>2    </td>\n",
       "        </tr>\n",
       "        <tr>\n",
       "            <td>8/11/15</td> <td>1975         </td> <td>FLL        </td> <td>58   </td>\n",
       "        </tr>\n",
       "    </tbody>\n",
       "</table>\n",
       "<p>... (390 rows omitted)</p>"
      ],
      "text/plain": [
       "Date    | Flight Number | Destination | Delay\n",
       "8/19/15 | 719           | IAD         | 60\n",
       "6/1/15  | 1405          | LAS         | -1\n",
       "6/28/15 | 489           | ORD         | 4\n",
       "8/2/15  | 526           | DEN         | -5\n",
       "8/8/15  | 1900          | PHL         | 23\n",
       "6/18/15 | 760           | JFK         | 22\n",
       "8/21/15 | 1735          | PDX         | 1\n",
       "7/29/15 | 1916          | DEN         | 3\n",
       "8/5/15  | 887           | LAX         | 2\n",
       "8/11/15 | 1975          | FLL         | 58\n",
       "... (390 rows omitted)"
      ]
     },
     "execution_count": 9,
     "metadata": {},
     "output_type": "execute_result"
    }
   ],
   "source": [
    "sample = table.sample(k=400, with_replacement=True)\n",
    "sample"
   ]
  },
  {
   "cell_type": "code",
   "execution_count": 12,
   "metadata": {},
   "outputs": [
    {
     "data": {
      "text/plain": [
       "17.6775"
      ]
     },
     "execution_count": 12,
     "metadata": {},
     "output_type": "execute_result"
    }
   ],
   "source": [
    "np.mean(sample.column(\"Delay\"))"
   ]
  },
  {
   "cell_type": "code",
   "execution_count": 14,
   "metadata": {},
   "outputs": [
    {
     "data": {
      "text/plain": [
       "36.76674439966095"
      ]
     },
     "execution_count": 14,
     "metadata": {},
     "output_type": "execute_result"
    }
   ],
   "source": [
    "np.std(sample.column(\"Delay\"))"
   ]
  },
  {
   "cell_type": "code",
   "execution_count": 32,
   "metadata": {},
   "outputs": [
    {
     "data": {
      "text/plain": [
       "array([21.91  , 20.89  , 16.4075, ..., 16.0275, 15.03  , 15.765 ])"
      ]
     },
     "execution_count": 32,
     "metadata": {},
     "output_type": "execute_result"
    }
   ],
   "source": [
    "def simulate(x):\n",
    "    meanArray = make_array()\n",
    "    for i in np.arange(x):\n",
    "        s = table.sample(k=400, with_replacement=True)\n",
    "        sMean = np.mean(s.column(\"Delay\"))\n",
    "        meanArray = np.append(meanArray, sMean)\n",
    "    return meanArray\n",
    "x = simulate(10000)\n",
    "x"
   ]
  },
  {
   "cell_type": "code",
   "execution_count": 48,
   "metadata": {},
   "outputs": [
    {
     "name": "stdout",
     "output_type": "stream",
     "text": [
      "Mean Differences: 0.008284734629295798\n",
      "Std of the sample mean: 1.969754546270915\n"
     ]
    },
    {
     "data": {
      "image/png": "[encoded data removed]",
      "text/plain": [
       "<Figure size 432x288 with 1 Axes>"
      ]
     },
     "metadata": {
      "needs_background": "light"
     },
     "output_type": "display_data"
    }
   ],
   "source": [
    "# Simulate for 10000 times\n",
    "print(\"Mean Differences: \" + str(abs(np.mean(x)- np.mean(table.column(\"Delay\")))))\n",
    "print(\"Std of the sample mean: \" + str(np.std(x)))\n",
    "Table().with_column('Simulated Mean', x).hist()"
   ]
  },
  {
   "cell_type": "code",
   "execution_count": 47,
   "metadata": {},
   "outputs": [
    {
     "name": "stdout",
     "output_type": "stream",
     "text": [
      "Mean Differences: 0.10028051537070581\n",
      "Std of the sample mean: 1.7238354175718167\n"
     ]
    },
    {
     "data": {
      "image/png": "[encoded data removed]",
      "text/plain": [
       "<Figure size 432x288 with 1 Axes>"
      ]
     },
     "metadata": {
      "needs_background": "light"
     },
     "output_type": "display_data"
    }
   ],
   "source": [
    "# Repeat for 200 times:\n",
    "y = simulate(200)\n",
    "print(\"Mean Differences: \" + str(abs(np.mean(y)- np.mean(table.column(\"Delay\")))))\n",
    "print(\"Std of the sample mean: \" + str(np.std(y)))\n",
    "Table().with_column('Simulated Mean', y).hist()"
   ]
  },
  {
   "cell_type": "code",
   "execution_count": 43,
   "metadata": {},
   "outputs": [
    {
     "name": "stdout",
     "output_type": "stream",
     "text": [
      "Mean Differences: 0.08733448462929161\n",
      "Std of the sample mean: 2.049517540154268\n"
     ]
    },
    {
     "data": {
      "image/png": "[encoded data removed]",
      "text/plain": [
       "<Figure size 432x288 with 1 Axes>"
      ]
     },
     "metadata": {
      "needs_background": "light"
     },
     "output_type": "display_data"
    }
   ],
   "source": [
    "# Repeat for 1000 times:\n",
    "z = simulate(1000)\n",
    "print(\"Mean Differences: \" + str(abs(np.mean(z)- np.mean(table.column(\"Delay\")))))\n",
    "print(\"Std of the sample mean: \" + str(np.std(z)))\n",
    "Table().with_column('Simulated Mean', z).hist()"
   ]
  },
  {
   "cell_type": "code",
   "execution_count": null,
   "metadata": {},
   "outputs": [],
   "source": [
    "# How does the histogram change?  How do the standard deviations of the sample means change?"
   ]
  }
 ],
 "metadata": {
  "kernelspec": {
   "display_name": "Python 3",
   "language": "python",
   "name": "python3"
  },
  "language_info": {
   "codemirror_mode": {
    "name": "ipython",
    "version": 3
   },
   "file_extension": ".py",
   "mimetype": "text/x-python",
   "name": "python",
   "nbconvert_exporter": "python",
   "pygments_lexer": "ipython3",
   "version": "3.7.4"
  }
 },
 "nbformat": 4,
 "nbformat_minor": 2
}
