{
 "cells": [
  {
   "cell_type": "markdown",
   "metadata": {},
   "source": [
    "Notebook exercises based off Prof Gonzalez's DS100 lecture"
   ]
  },
  {
   "cell_type": "code",
   "execution_count": 1,
   "metadata": {},
   "outputs": [],
   "source": [
    "import numpy as np\n",
    "from datascience import *\n",
    "\n",
    "%matplotlib inline\n",
    "import matplotlib.pyplot as plots\n",
    "plots.style.use('fivethirtyeight')"
   ]
  },
  {
   "cell_type": "markdown",
   "metadata": {},
   "source": [
    "# Data 8 Tutoring Week 3\n",
    "\n",
    "Topics to go over:\n",
    "\n",
    "- Histograms (Question 2.1 - 2.5)\n",
    "    - Horizontal and vertical axes \n",
    "    - Counts in bins, Unequal bins\n",
    "    - General principle/ Calculations\n",
    "    - Bar chart vs. Histograms\n",
    "\n",
    "- Functions \n",
    "    - def statements (Question 3.1)\n",
    "    - apply (Question 3.2)\n",
    "    - Functions as values \n",
    "\n",
    "- Group\n",
    "    - Classify by one variable (Question 3.3, 4.1, 4.2)\n",
    "    - Cross classify by 2 variables (Question 4.3)\n",
    "    - Pivot tables (Question 3.4, 3.5)\n",
    "    - Finding distributions with pivoted tables"
   ]
  },
  {
   "cell_type": "markdown",
   "metadata": {},
   "source": [
    "# Social Security Association\n",
    "\n",
    "Every year, the SSA records all of the baby names who have social security numbers. The \"Count\" column describes how many people of each name were born in that year. \n",
    "For example, there were 295 female Marys in California in the year 1910. (The first row in the baby_names table)"
   ]
  },
  {
   "cell_type": "code",
   "execution_count": 2,
   "metadata": {},
   "outputs": [
    {
     "data": {
      "text/html": [
       "<table border=\"1\" class=\"dataframe\">\n",
       "    <thead>\n",
       "        <tr>\n",
       "            <th>State</th> <th>Gender</th> <th>Year</th> <th>Name</th> <th>Count</th>\n",
       "        </tr>\n",
       "    </thead>\n",
       "    <tbody>\n",
       "        <tr>\n",
       "            <td>CA   </td> <td>F     </td> <td>1910</td> <td>Mary     </td> <td>295  </td>\n",
       "        </tr>\n",
       "        <tr>\n",
       "            <td>CA   </td> <td>F     </td> <td>1910</td> <td>Helen    </td> <td>239  </td>\n",
       "        </tr>\n",
       "        <tr>\n",
       "            <td>CA   </td> <td>F     </td> <td>1910</td> <td>Dorothy  </td> <td>220  </td>\n",
       "        </tr>\n",
       "        <tr>\n",
       "            <td>CA   </td> <td>F     </td> <td>1910</td> <td>Margaret </td> <td>163  </td>\n",
       "        </tr>\n",
       "        <tr>\n",
       "            <td>CA   </td> <td>F     </td> <td>1910</td> <td>Frances  </td> <td>134  </td>\n",
       "        </tr>\n",
       "        <tr>\n",
       "            <td>CA   </td> <td>F     </td> <td>1910</td> <td>Ruth     </td> <td>128  </td>\n",
       "        </tr>\n",
       "        <tr>\n",
       "            <td>CA   </td> <td>F     </td> <td>1910</td> <td>Evelyn   </td> <td>126  </td>\n",
       "        </tr>\n",
       "        <tr>\n",
       "            <td>CA   </td> <td>F     </td> <td>1910</td> <td>Alice    </td> <td>118  </td>\n",
       "        </tr>\n",
       "        <tr>\n",
       "            <td>CA   </td> <td>F     </td> <td>1910</td> <td>Virginia </td> <td>101  </td>\n",
       "        </tr>\n",
       "        <tr>\n",
       "            <td>CA   </td> <td>F     </td> <td>1910</td> <td>Elizabeth</td> <td>93   </td>\n",
       "        </tr>\n",
       "    </tbody>\n",
       "</table>\n",
       "<p>... (361118 rows omitted)</p>"
      ],
      "text/plain": [
       "State | Gender | Year | Name      | Count\n",
       "CA    | F      | 1910 | Mary      | 295\n",
       "CA    | F      | 1910 | Helen     | 239\n",
       "CA    | F      | 1910 | Dorothy   | 220\n",
       "CA    | F      | 1910 | Margaret  | 163\n",
       "CA    | F      | 1910 | Frances   | 134\n",
       "CA    | F      | 1910 | Ruth      | 128\n",
       "CA    | F      | 1910 | Evelyn    | 126\n",
       "CA    | F      | 1910 | Alice     | 118\n",
       "CA    | F      | 1910 | Virginia  | 101\n",
       "CA    | F      | 1910 | Elizabeth | 93\n",
       "... (361118 rows omitted)"
      ]
     },
     "execution_count": 2,
     "metadata": {},
     "output_type": "execute_result"
    }
   ],
   "source": [
    "# Just run!\n",
    "column_labels = make_array('State', 'Gender', 'Year', 'Name', 'Count')\n",
    "baby_names = Table().read_table(\"CA.csv\", names = column_labels)\n",
    "baby_names"
   ]
  },
  {
   "cell_type": "markdown",
   "metadata": {
    "collapsed": true
   },
   "source": [
    "## Question 1: What's the data?\n",
    "How much data do we have?\n",
    "How many years does this span?\n",
    "How many people did they record?"
   ]
  },
  {
   "cell_type": "code",
   "execution_count": 8,
   "metadata": {},
   "outputs": [
    {
     "name": "stdout",
     "output_type": "stream",
     "text": [
      "Number of entries: 361128\n",
      "Time period of data: 1910 to 2015\n",
      "People recorded: 29686407\n"
     ]
    }
   ],
   "source": [
    "num_entries = baby_names.num_rows\n",
    "earliest_year = min(baby_names.column(\"Year\"))\n",
    "lastest_year = max(baby_names.column(\"Year\"))\n",
    "total_people = sum(baby_names.column(\"Count\"))\n",
    "\n",
    "# Don't change anything below\n",
    "print(\"Number of entries: \" + str(num_entries))\n",
    "print(\"Time period of data: \" + str(earliest_year) + \" to \" + str(lastest_year))\n",
    "print(\"People recorded: \" + str(total_people))"
   ]
  },
  {
   "cell_type": "markdown",
   "metadata": {},
   "source": [
    "## Question 2.1: Histograms\n",
    "First, discuss what each entry (row) of the table represents. What do you think a histogram's bins are?\n",
    "\n",
    "Next, make a histogram using the numerical data in the column, Years. Use the year_bins as the bins for your histogram. What do you think the histogram is saying? Discuss the x and y axis."
   ]
  },
  {
   "cell_type": "code",
   "execution_count": 13,
   "metadata": {},
   "outputs": [
    {
     "data": {
      "image/png": "[encoded data removed]",
      "text/plain": [
       "<Figure size 432x288 with 1 Axes>"
      ]
     },
     "metadata": {},
     "output_type": "display_data"
    }
   ],
   "source": [
    "year_bins = np.arange(1910, 2020, 10)\n",
    "baby_names.hist(\"Year\", bins = year_bins)\n",
    "# Make your histogram here"
   ]
  },
  {
   "cell_type": "markdown",
   "metadata": {},
   "source": [
    "Response: \n",
    "1. I think the histogram is suggesting that for decades, there are more names appears as the time goes.\n",
    "2. In the histogram, x-axis is the time(\"Year\") and y-axis is "
   ]
  },
  {
   "cell_type": "markdown",
   "metadata": {},
   "source": [
    "## Question 2.2\n",
    "Why do you see a steady increase from 1920 to 2010?"
   ]
  },
  {
   "cell_type": "markdown",
   "metadata": {},
   "source": [
    "Response: Yes"
   ]
  },
  {
   "cell_type": "markdown",
   "metadata": {},
   "source": [
    "## Question 2.3\n",
    "Calculate the area in the 1980-1990 bin to get the proportion of names recorded from 1980-1990, and name it area_80_90. If we multiply area_80_90 by the total number of entries, we should get the number of names in that time period. Name this variable num_names_80_90.\n",
    "\n",
    "Hint: When we mean calculate the area from a histogram, look at and use the actual displayed histogram.\n",
    "\n",
    "Hint: Remember that the y axis is PERCENT per unit, not PROPORTION per unit!\n",
    "Check your answer by comparing with the number of names "
   ]
  },
  {
   "cell_type": "code",
   "execution_count": 35,
   "metadata": {},
   "outputs": [
    {
     "data": {
      "text/plain": [
       "54169.2"
      ]
     },
     "execution_count": 35,
     "metadata": {},
     "output_type": "execute_result"
    }
   ],
   "source": [
    "area_80_90 = 10 * 1.5/100\n",
    "num_names_80_90 = area_80_90 * num_entries\n",
    "num_names_80_90"
   ]
  },
  {
   "cell_type": "markdown",
   "metadata": {},
   "source": [
    "## Questions 2.4\n",
    "\n",
    "Check your answer by comparing num_names_80_90 with the actual number of names recorded from 1980 to 1990. To get the actual number, use the baby_names table.\n",
    "\n",
    "The number should be close to each other (maybe 5000 off) because the area calculation is not super accurate."
   ]
  },
  {
   "cell_type": "code",
   "execution_count": 30,
   "metadata": {},
   "outputs": [
    {
     "data": {
      "text/plain": [
       "55491"
      ]
     },
     "execution_count": 30,
     "metadata": {},
     "output_type": "execute_result"
    }
   ],
   "source": [
    "# may take ~10 seconds to load\n",
    "actual = baby_names.where(\"Year\", are.between_or_equal_to(1980,1990)).num_rows\n",
    "actual"
   ]
  },
  {
   "cell_type": "markdown",
   "metadata": {},
   "source": [
    "Your calculation shows that the area of a bin is indeed the proportion of entries in that bin! Remember, the area of a histogram is extremely important!"
   ]
  },
  {
   "cell_type": "markdown",
   "metadata": {},
   "source": [
    "## Question 2.5 \n",
    "\n",
    "Create a visualization that shows the frequency of values in the column, Counts. Use bins that range from 0 to 1000, with the width 50 for each bin. What is interesting about the visualization? What noticable trend do you see? "
   ]
  },
  {
   "cell_type": "code",
   "execution_count": 8,
   "metadata": {},
   "outputs": [],
   "source": [
    "# Make your visualization here \n"
   ]
  },
  {
   "cell_type": "markdown",
   "metadata": {},
   "source": [
    "***Write your answer here***\n"
   ]
  },
  {
   "cell_type": "markdown",
   "metadata": {},
   "source": [
    "## Question 3.1: Let's define a function\n",
    "\n",
    "Usually, we can guess the gender of a person with his or her name. One simple way you might guess is that the names of females more often start with vowels, instead of consonants. Let's find out if that's really true!\n",
    "\n",
    "Define a function, named ends_with_vowel, that takes in a name argument and returns the first letter as a capital letter. For example first_letter(\"blake\") will return \"B\".\n",
    "\n",
    "Hint: str.upper() capitalizes the entire string \n",
    "\n",
    "Hint 2: str[index] will return the letter at a given index (just like tbl.item(index) )"
   ]
  },
  {
   "cell_type": "code",
   "execution_count": 9,
   "metadata": {},
   "outputs": [],
   "source": [
    "# Write your function here.\n",
    "\n",
    "first_letter(\"blake\") #should return 'B'"
   ]
  },
  {
   "cell_type": "markdown",
   "metadata": {},
   "source": [
    "## Question 3.2\n",
    "Add a column to baby_names, named First Letter, that extracts the first letter from the Name column. Set the new table to baby_names."
   ]
  },
  {
   "cell_type": "code",
   "execution_count": 11,
   "metadata": {},
   "outputs": [],
   "source": [
    "baby_names = ...\n",
    "baby_names"
   ]
  },
  {
   "cell_type": "markdown",
   "metadata": {},
   "source": [
    "## Question 3.3\n",
    "For each letter, how many people were born with that letter as their first letter of their name?\n",
    "Create a table that has a row for every first letter and the number of people whose names start with that letter. The table should be two columns. (Don't assign the table a name)\n",
    "\n",
    "Sort it in descending order."
   ]
  },
  {
   "cell_type": "code",
   "execution_count": 12,
   "metadata": {},
   "outputs": [],
   "source": [
    "# Make the table here"
   ]
  },
  {
   "cell_type": "markdown",
   "metadata": {},
   "source": [
    "## Question 3.4\n",
    "Although this tells us how many people were born with a certain first letter, this doesn't show us any relationship with a person's gender.\n",
    "\n",
    "Make a pivot table, called pivot_by_first_letter, where the rows labels are the first letter of a name and the column labels are the two genders. We want to see the total babies who were female and male for each given name."
   ]
  },
  {
   "cell_type": "code",
   "execution_count": 14,
   "metadata": {},
   "outputs": [],
   "source": [
    "pivot_by_first = ...\n",
    "pivot_by_first"
   ]
  },
  {
   "cell_type": "markdown",
   "metadata": {},
   "source": [
    "The pivot table is somewhat hard to read because the number are so big. Let's fix that by turning the numbers into proportions of males and females for each letter. You don't need to fully understand the next code cell, but make sure you understand the new pivot table before moving on."
   ]
  },
  {
   "cell_type": "code",
   "execution_count": 15,
   "metadata": {},
   "outputs": [],
   "source": [
    "# Just run this cell\n",
    "totals = pivot_by_first.column('F') + pivot_by_first.column('M')\n",
    "pivot_w_proportions = Table().with_columns('First Letter', pivot_by_first.column('First Letter'),\n",
    "                                           'F', pivot_by_first.column('F')/totals,\n",
    "                                           'M', pivot_by_first.column('M')/totals)\n",
    "pivot_w_proportions.show()"
   ]
  },
  {
   "cell_type": "markdown",
   "metadata": {},
   "source": [
    "## Question 3.5\n",
    "We said earlier that perhaps if a name started with a vowel, the person is a female. For which vowels is this true? For which vowels is this false? Is this method a good way to guess the gender?\n"
   ]
  },
  {
   "cell_type": "markdown",
   "metadata": {},
   "source": [
    "*** Write your response here ***"
   ]
  },
  {
   "cell_type": "markdown",
   "metadata": {},
   "source": [
    "## Question 4.1: Grouping!\n",
    "Find the 5 most popular baby names in the US throughout time. Do this by making a table that shows the 5 Names and Counts of all the people who had that name. Name this table top5.\n",
    "\n",
    "Note: There are a lot of functions that go into this! This is a hard question."
   ]
  },
  {
   "cell_type": "code",
   "execution_count": 16,
   "metadata": {},
   "outputs": [],
   "source": [
    "top5 = ...\n",
    "top5"
   ]
  },
  {
   "cell_type": "markdown",
   "metadata": {},
   "source": [
    "## Question 4.2\n",
    "Let's see if these names correspond with the 5 most popular first letters. Find the 5 most popular first letters in the US throughout time. You should end up with a table that shows the 5 First Letters and Counts of all the people who had that first letter. Name this top5_letter. "
   ]
  },
  {
   "cell_type": "code",
   "execution_count": 18,
   "metadata": {},
   "outputs": [],
   "source": [
    "top5_letter = ...      \n",
    "top5_letter"
   ]
  },
  {
   "cell_type": "markdown",
   "metadata": {},
   "source": [
    "## Question 4.3\n",
    "Some names are gender neutral, which means boys and girls have this name. Look at the counts of people by cross-classifying by name AND gender. Name this table by_name_gender. "
   ]
  },
  {
   "cell_type": "code",
   "execution_count": 19,
   "metadata": {},
   "outputs": [],
   "source": [
    "by_name_gender = ...\n",
    "by_name_gender"
   ]
  },
  {
   "cell_type": "markdown",
   "metadata": {},
   "source": [
    "Some common names are thought of as gender neutral. Use the next code cell to look at some commonly known gender neutral names like Leslie, Cameron, Sam, Jordan, Taylor. You can also input whatever name you would like to see!\n",
    "\n",
    "Are you surprised by the number of females or males with these names? Maybe they aren't as gender neutral as you thought."
   ]
  },
  {
   "cell_type": "code",
   "execution_count": 26,
   "metadata": {},
   "outputs": [],
   "source": [
    "by_name_gender.where('Name', are.equal_to(##Insert a name here##)) # enter a string!"
   ]
  },
  {
   "cell_type": "code",
   "execution_count": null,
   "metadata": {
    "collapsed": true
   },
   "outputs": [],
   "source": []
  }
 ],
 "metadata": {
  "kernelspec": {
   "display_name": "Python 3",
   "language": "python",
   "name": "python3"
  },
  "language_info": {
   "codemirror_mode": {
    "name": "ipython",
    "version": 3
   },
   "file_extension": ".py",
   "mimetype": "text/x-python",
   "name": "python",
   "nbconvert_exporter": "python",
   "pygments_lexer": "ipython3",
   "version": "3.7.4"
  }
 },
 "nbformat": 4,
 "nbformat_minor": 2
}
