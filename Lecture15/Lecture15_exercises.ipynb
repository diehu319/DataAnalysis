{
 "cells": [
  {
   "cell_type": "markdown",
   "metadata": {},
   "source": [
    "# Lecture 15 Exercises\n",
    "\n",
    "In today's lecture, we will learn about ways to understand and quantify [the association between two variables](https://www.inferentialthinking.com/chapters/15/1/correlation.html)."
   ]
  },
  {
   "cell_type": "code",
   "execution_count": 1,
   "metadata": {},
   "outputs": [],
   "source": [
    "# Run this cell, but please don't change it.\n",
    "\n",
    "# These lines import the Numpy and Datascience modules.\n",
    "import numpy as np\n",
    "from datascience import *\n",
    "\n",
    "# These lines do some fancy plotting magic.\n",
    "import matplotlib\n",
    "%matplotlib inline\n",
    "import matplotlib.pyplot as plots\n",
    "plots.style.use('fivethirtyeight')\n",
    "import warnings\n",
    "warnings.simplefilter('ignore', FutureWarning)"
   ]
  },
  {
   "cell_type": "markdown",
   "metadata": {},
   "source": [
    "# How Faithful is Old Faithful? \n",
    "\n",
    "Old Faithful is a geyser in Yellowstone National Park that is famous for eruption on a fairly regular schedule. Run the cell below to see Old Faithful in action!"
   ]
  },
  {
   "cell_type": "code",
   "execution_count": 2,
   "metadata": {},
   "outputs": [
    {
     "data": {
      "image/jpeg": "[encoded data removed]",
      "text/html": [
       "\n",
       "        <iframe\n",
       "            width=\"400\"\n",
       "            height=\"300\"\n",
       "            src=\"https://www.youtube.com/embed/wE8NDuzt8eg\"\n",
       "            frameborder=\"0\"\n",
       "            allowfullscreen\n",
       "        ></iframe>\n",
       "        "
      ],
      "text/plain": [
       "<IPython.lib.display.YouTubeVideo at 0x110ec8f50>"
      ]
     },
     "execution_count": 2,
     "metadata": {},
     "output_type": "execute_result"
    }
   ],
   "source": [
    "# For the curious: this is how to display a YouTube video in a\n",
    "# Jupyter notebook.  The argument to YouTubeVideo is the part\n",
    "# of the URL (called a \"query parameter\") that identifies the\n",
    "# video.  For example, the full URL for this video is:\n",
    "#   https://www.youtube.com/watch?v=wE8NDuzt8eg\n",
    "from IPython.display import YouTubeVideo\n",
    "YouTubeVideo(\"wE8NDuzt8eg\")"
   ]
  },
  {
   "cell_type": "markdown",
   "metadata": {},
   "source": [
    "Some of Old Faithful's eruptions last longer than others.  Whenever there is a long eruption, it usually followed by an even longer wait before the next eruption.\n",
    "\n",
    "If you visit Yellowstone, you might want to predict when the next eruption will happen, so you can see the rest of the park in the meantime instead of waiting by the geyser. Today, we will use a dataset on eruption durations and waiting times to see how closely these variables are related - if there is a strong relationship, we should be able to predict one from the other. You’ll learn more about this method of prediction in lecture tomorrow.\n",
    "\n",
    "The dataset has one row for each observed eruption.  It includes the following columns:\n",
    "- `duration`: Eruption duration, in minutes.\n",
    "- `wait`: Time between this eruption and the next, also in minutes.\n",
    "\n",
    "Run the next cell to load the dataset."
   ]
  },
  {
   "cell_type": "code",
   "execution_count": 3,
   "metadata": {},
   "outputs": [
    {
     "data": {
      "text/html": [
       "<table border=\"1\" class=\"dataframe\">\n",
       "    <thead>\n",
       "        <tr>\n",
       "            <th>duration</th> <th>wait</th>\n",
       "        </tr>\n",
       "    </thead>\n",
       "    <tbody>\n",
       "        <tr>\n",
       "            <td>3.6     </td> <td>79  </td>\n",
       "        </tr>\n",
       "        <tr>\n",
       "            <td>1.8     </td> <td>54  </td>\n",
       "        </tr>\n",
       "        <tr>\n",
       "            <td>3.333   </td> <td>74  </td>\n",
       "        </tr>\n",
       "        <tr>\n",
       "            <td>2.283   </td> <td>62  </td>\n",
       "        </tr>\n",
       "        <tr>\n",
       "            <td>4.533   </td> <td>85  </td>\n",
       "        </tr>\n",
       "        <tr>\n",
       "            <td>2.883   </td> <td>55  </td>\n",
       "        </tr>\n",
       "        <tr>\n",
       "            <td>4.7     </td> <td>88  </td>\n",
       "        </tr>\n",
       "        <tr>\n",
       "            <td>3.6     </td> <td>85  </td>\n",
       "        </tr>\n",
       "        <tr>\n",
       "            <td>1.95    </td> <td>51  </td>\n",
       "        </tr>\n",
       "        <tr>\n",
       "            <td>4.35    </td> <td>85  </td>\n",
       "        </tr>\n",
       "    </tbody>\n",
       "</table>\n",
       "<p>... (262 rows omitted)</p>"
      ],
      "text/plain": [
       "duration | wait\n",
       "3.6      | 79\n",
       "1.8      | 54\n",
       "3.333    | 74\n",
       "2.283    | 62\n",
       "4.533    | 85\n",
       "2.883    | 55\n",
       "4.7      | 88\n",
       "3.6      | 85\n",
       "1.95     | 51\n",
       "4.35     | 85\n",
       "... (262 rows omitted)"
      ]
     },
     "execution_count": 3,
     "metadata": {},
     "output_type": "execute_result"
    }
   ],
   "source": [
    "faithful = Table.read_table(\"faithful.csv\")\n",
    "faithful"
   ]
  },
  {
   "cell_type": "markdown",
   "metadata": {},
   "source": [
    "Let’s first look at our data to see whether we can visually identify a linear relationship, which is what the correlation coefficient measures."
   ]
  },
  {
   "cell_type": "markdown",
   "metadata": {
    "deletable": false,
    "editable": false
   },
   "source": [
    "**Question 1.1.** Make a scatter plot of the data.  It's conventional to put the column we want to predict on the vertical axis and the other column on the horizontal axis.\n",
    "\n",
    "<!--\n",
    "BEGIN QUESTION\n",
    "name: q1_1\n",
    "-->"
   ]
  },
  {
   "cell_type": "code",
   "execution_count": 10,
   "metadata": {
    "deletable": false
   },
   "outputs": [
    {
     "data": {
      "image/png": "[encoded data removed]",
      "text/plain": [
       "<Figure size 360x360 with 1 Axes>"
      ]
     },
     "metadata": {},
     "output_type": "display_data"
    }
   ],
   "source": [
    "faithful.scatter('duration','wait')\n",
    "plots.title('Duration v. wait (original units)');"
   ]
  },
  {
   "cell_type": "markdown",
   "metadata": {
    "deletable": false,
    "editable": false
   },
   "source": [
    "**Question 1.2.** Are eruption duration and waiting time roughly linearly related based on the scatter plot above? Is this relationship positive?\n",
    "\n",
    "<!--\n",
    "BEGIN QUESTION\n",
    "name: q1_2\n",
    "-->"
   ]
  },
  {
   "cell_type": "markdown",
   "metadata": {
    "manual_problem_id": "eruptions_linear"
   },
   "source": [
    "*Based on the scatter plot above, the eruption duration and waiting time are roughly linearly related and the relationship is positive.*"
   ]
  },
  {
   "cell_type": "markdown",
   "metadata": {},
   "source": [
    "We're going to continue with the assumption that they are linearly related, and quantify the strength of this linear relationship.\n",
    "\n",
    "We'd next like to plot the data in standard units. If you don't remember the definition of standard units, textbook section [14.2](https://www.inferentialthinking.com/chapters/14/2/Variability.html#standard-units) might help!"
   ]
  },
  {
   "cell_type": "markdown",
   "metadata": {
    "deletable": false,
    "editable": false
   },
   "source": [
    "**Question 1.3.** Compute the mean and standard deviation of the eruption durations and waiting times.  **Then** create a table called `faithful_standard` containing the eruption durations and waiting times in standard units.  The columns should be named `duration (standard units)` and `wait (standard units)`.\n",
    "\n",
    "<!--\n",
    "BEGIN QUESTION\n",
    "name: q1_3\n",
    "-->"
   ]
  },
  {
   "cell_type": "code",
   "execution_count": 11,
   "metadata": {
    "for_assignment_type": "solution"
   },
   "outputs": [
    {
     "data": {
      "text/html": [
       "<table border=\"1\" class=\"dataframe\">\n",
       "    <thead>\n",
       "        <tr>\n",
       "            <th>duration (standard units)</th> <th>wait (standard units)</th>\n",
       "        </tr>\n",
       "    </thead>\n",
       "    <tbody>\n",
       "        <tr>\n",
       "            <td>0.0984989                </td> <td>0.597123             </td>\n",
       "        </tr>\n",
       "        <tr>\n",
       "            <td>-1.48146                 </td> <td>-1.24518             </td>\n",
       "        </tr>\n",
       "        <tr>\n",
       "            <td>-0.135861                </td> <td>0.228663             </td>\n",
       "        </tr>\n",
       "        <tr>\n",
       "            <td>-1.0575                  </td> <td>-0.655644            </td>\n",
       "        </tr>\n",
       "        <tr>\n",
       "            <td>0.917443                 </td> <td>1.03928              </td>\n",
       "        </tr>\n",
       "        <tr>\n",
       "            <td>-0.530851                </td> <td>-1.17149             </td>\n",
       "        </tr>\n",
       "        <tr>\n",
       "            <td>1.06403                  </td> <td>1.26035              </td>\n",
       "        </tr>\n",
       "        <tr>\n",
       "            <td>0.0984989                </td> <td>1.03928              </td>\n",
       "        </tr>\n",
       "        <tr>\n",
       "            <td>-1.3498                  </td> <td>-1.46626             </td>\n",
       "        </tr>\n",
       "        <tr>\n",
       "            <td>0.756814                 </td> <td>1.03928              </td>\n",
       "        </tr>\n",
       "    </tbody>\n",
       "</table>\n",
       "<p>... (262 rows omitted)</p>"
      ],
      "text/plain": [
       "duration (standard units) | wait (standard units)\n",
       "0.0984989                 | 0.597123\n",
       "-1.48146                  | -1.24518\n",
       "-0.135861                 | 0.228663\n",
       "-1.0575                   | -0.655644\n",
       "0.917443                  | 1.03928\n",
       "-0.530851                 | -1.17149\n",
       "1.06403                   | 1.26035\n",
       "0.0984989                 | 1.03928\n",
       "-1.3498                   | -1.46626\n",
       "0.756814                  | 1.03928\n",
       "... (262 rows omitted)"
      ]
     },
     "execution_count": 11,
     "metadata": {},
     "output_type": "execute_result"
    }
   ],
   "source": [
    "duration_mean = np.mean(faithful.column('duration'))\n",
    "duration_std = np.std(faithful.column('duration'))\n",
    "wait_mean = np.mean(faithful.column('wait'))\n",
    "wait_std = np.std(faithful.column('wait'))\n",
    "\n",
    "faithful_standard = Table().with_columns(\n",
    "    \"duration (standard units)\", (faithful.column('duration') - duration_mean)/duration_std,\n",
    "    \"wait (standard units)\", (faithful.column('wait') - wait_mean)/wait_std)\n",
    "faithful_standard"
   ]
  },
  {
   "cell_type": "markdown",
   "metadata": {
    "deletable": false,
    "editable": false
   },
   "source": [
    "**Question 1.4.** Plot the data again, but this time in standard units.\n",
    "\n",
    "<!--\n",
    "BEGIN QUESTION\n",
    "name: q1_4\n",
    "-->"
   ]
  },
  {
   "cell_type": "code",
   "execution_count": 12,
   "metadata": {},
   "outputs": [
    {
     "data": {
      "image/png": "[encoded data removed]",
      "text/plain": [
       "<Figure size 360x360 with 1 Axes>"
      ]
     },
     "metadata": {},
     "output_type": "display_data"
    }
   ],
   "source": [
    "faithful_standard.scatter('duration (standard units)','wait (standard units)')\n",
    "plots.title('Duration v. wait (standard units)');"
   ]
  },
  {
   "cell_type": "markdown",
   "metadata": {},
   "source": [
    "You'll notice that this plot looks the same as the last one!  However, the data and axes are scaled differently.  So it's important to read the ticks on the axes."
   ]
  },
  {
   "cell_type": "markdown",
   "metadata": {
    "deletable": false,
    "editable": false
   },
   "source": [
    "**Question 1.5.** Among the following numbers, which would you guess is closest to the correlation between eruption duration and waiting time in this dataset?\n",
    "\n",
    "1. -1\n",
    "2. 0\n",
    "3. 1\n",
    "\n",
    "Assign `correlation` to the number corresponding to your guess.\n",
    "\n",
    "<!--\n",
    "BEGIN QUESTION\n",
    "name: q1_5\n",
    "-->"
   ]
  },
  {
   "cell_type": "code",
   "execution_count": 13,
   "metadata": {},
   "outputs": [],
   "source": [
    "correlation = 3"
   ]
  },
  {
   "cell_type": "markdown",
   "metadata": {
    "deletable": false,
    "editable": false
   },
   "source": [
    "**Question 1.6.** Compute the correlation `r`.  \n",
    "\n",
    "*Hint:* Use `faithful_standard`.  Section [15.1](https://www.inferentialthinking.com/chapters/15/1/Correlation.html#calculating-r) explains how to do this.\n",
    "\n",
    "\n",
    "<!--\n",
    "BEGIN QUESTION\n",
    "name: q1_6\n",
    "-->"
   ]
  },
  {
   "cell_type": "code",
   "execution_count": 14,
   "metadata": {},
   "outputs": [
    {
     "data": {
      "text/plain": [
       "0.9008111683218132"
      ]
     },
     "execution_count": 14,
     "metadata": {},
     "output_type": "execute_result"
    }
   ],
   "source": [
    "r = np.mean(faithful_standard.column(0) * faithful_standard.column(1))\n",
    "r"
   ]
  },
  {
   "cell_type": "markdown",
   "metadata": {},
   "source": [
    "# Cheese and Doctorates\n",
    "\n",
    "We’ll now investigate the relationship between two unusual variables. For every year between 2000 and 2009 (inclusive), we have data on the per-capita consumption of mozzarella cheese in that year and the number of civil engineering doctorates awarded in that year. These are real data from the U.S. Department of Agriculture and the National Science Foundation.\n",
    "\n",
    "We can perform the same process that we performed above to investigate whether there is an association between the cheese consumption in a certain year and the number of civil engineering degrees awarded in that year. Just because we can do something, though, doesn’t mean it is meaningful. While you carry out the following process, think about whether the analysis you are performing is meaningful or not."
   ]
  },
  {
   "cell_type": "markdown",
   "metadata": {
    "deletable": false,
    "editable": false
   },
   "source": [
    "**Question 2.1.** Run the next cell to load in the dataset\n",
    "\n",
    "<!--\n",
    "BEGIN QUESTION\n",
    "name: q2_1\n",
    "-->"
   ]
  },
  {
   "cell_type": "code",
   "execution_count": 15,
   "metadata": {},
   "outputs": [
    {
     "data": {
      "text/html": [
       "<table border=\"1\" class=\"dataframe\">\n",
       "    <thead>\n",
       "        <tr>\n",
       "            <th>Cheese Consumption</th> <th>Civil Engineering Doctorates</th>\n",
       "        </tr>\n",
       "    </thead>\n",
       "    <tbody>\n",
       "        <tr>\n",
       "            <td>9.3               </td> <td>480                         </td>\n",
       "        </tr>\n",
       "        <tr>\n",
       "            <td>9.7               </td> <td>501                         </td>\n",
       "        </tr>\n",
       "        <tr>\n",
       "            <td>9.7               </td> <td>540                         </td>\n",
       "        </tr>\n",
       "        <tr>\n",
       "            <td>9.7               </td> <td>552                         </td>\n",
       "        </tr>\n",
       "        <tr>\n",
       "            <td>9.9               </td> <td>547                         </td>\n",
       "        </tr>\n",
       "        <tr>\n",
       "            <td>10.2              </td> <td>622                         </td>\n",
       "        </tr>\n",
       "        <tr>\n",
       "            <td>10.5              </td> <td>655                         </td>\n",
       "        </tr>\n",
       "        <tr>\n",
       "            <td>11                </td> <td>701                         </td>\n",
       "        </tr>\n",
       "        <tr>\n",
       "            <td>10.6              </td> <td>712                         </td>\n",
       "        </tr>\n",
       "        <tr>\n",
       "            <td>10.6              </td> <td>708                         </td>\n",
       "        </tr>\n",
       "    </tbody>\n",
       "</table>"
      ],
      "text/plain": [
       "Cheese Consumption | Civil Engineering Doctorates\n",
       "9.3                | 480\n",
       "9.7                | 501\n",
       "9.7                | 540\n",
       "9.7                | 552\n",
       "9.9                | 547\n",
       "10.2               | 622\n",
       "10.5               | 655\n",
       "11                 | 701\n",
       "10.6               | 712\n",
       "10.6               | 708"
      ]
     },
     "execution_count": 15,
     "metadata": {},
     "output_type": "execute_result"
    }
   ],
   "source": [
    "cheese_doctors = Table().with_columns(\n",
    "    \"Cheese Consumption\", make_array(9.3, 9.7, 9.7, 9.7, 9.9, 10.2, 10.5, 11, 10.6, 10.6),\n",
    "    \"Civil Engineering Doctorates\", make_array(480, 501, 540, 552, 547, 622, 655,701, 712, 708))\n",
    "cheese_doctors"
   ]
  },
  {
   "cell_type": "markdown",
   "metadata": {
    "deletable": false,
    "editable": false
   },
   "source": [
    "**Question 2.2.** Let’s visually inspect the relationship in the table. Make a scatter plot which displays mozzarella cheese consumption on the x-axis, and number of Civil Engineering degrees on the y-axis.\n",
    "\n",
    "<!--\n",
    "BEGIN QUESTION\n",
    "name: q2_2\n",
    "-->"
   ]
  },
  {
   "cell_type": "code",
   "execution_count": 16,
   "metadata": {
    "deletable": false
   },
   "outputs": [
    {
     "data": {
      "image/png": "[encoded data removed]",
      "text/plain": [
       "<Figure size 360x360 with 1 Axes>"
      ]
     },
     "metadata": {},
     "output_type": "display_data"
    }
   ],
   "source": [
    "cheese_doctors.scatter('Cheese Consumption', 'Civil Engineering Doctorates')"
   ]
  },
  {
   "cell_type": "markdown",
   "metadata": {
    "deletable": false,
    "editable": false
   },
   "source": [
    "**Question 2.3.** Write a function called correlation_from_table that takes as arguments the name of a table and the names of two columns which contain numerical values. The function should return the correlation coefficient (a single number) between the two variables.\n",
    "\n",
    "<!--\n",
    "BEGIN QUESTION\n",
    "name: q2_3\n",
    "-->"
   ]
  },
  {
   "cell_type": "code",
   "execution_count": 17,
   "metadata": {
    "for_assignment_type": "solution"
   },
   "outputs": [],
   "source": [
    "def correlation_from_table(table, col_x, col_y):\n",
    "    data_x = table.column(col_x)\n",
    "    data_y = table.column(col_y)\n",
    "    standard_units_x = (data_x - np.mean(data_x))/np.std(data_x)\n",
    "    standard_units_y = (data_y - np.mean(data_y))/np.std(data_y)\n",
    "    correlation = np.mean(standard_units_x * standard_units_y)\n",
    "    return correlation"
   ]
  },
  {
   "cell_type": "markdown",
   "metadata": {
    "deletable": false,
    "editable": false
   },
   "source": [
    "**Question 2.4.** Call your correlation_from_table function on cheese_doctors to find the correlation coefficient between the two variables.\n",
    "\n",
    "<!--\n",
    "BEGIN QUESTION\n",
    "name: q2_4\n",
    "-->"
   ]
  },
  {
   "cell_type": "code",
   "execution_count": 18,
   "metadata": {
    "for_assignment_type": "solution"
   },
   "outputs": [
    {
     "data": {
      "text/plain": [
       "0.9586477872804794"
      ]
     },
     "execution_count": 18,
     "metadata": {},
     "output_type": "execute_result"
    }
   ],
   "source": [
    "correlation_from_table(cheese_doctors, 'Cheese Consumption', 'Civil Engineering Doctorates')"
   ]
  },
  {
   "cell_type": "markdown",
   "metadata": {},
   "source": [
    "You should have found a strong correlation (close to 1) between the two variables. But how should we interpret this value?"
   ]
  },
  {
   "cell_type": "markdown",
   "metadata": {
    "deletable": false,
    "editable": false
   },
   "source": [
    "**Question 2.5.** Does the high degree of linear association between these two variables tell us anything about a causal relationship between mozzarella cheese consumption and civil engineering doctorates? If we knew the amount of mozzarella cheese eaten per capita in 2010, would it make sense to try to use this to predict the number of civil engineering graduates in that year?\n",
    "\n",
    "<!--\n",
    "BEGIN QUESTION\n",
    "name: q2_5\n",
    "-->"
   ]
  },
  {
   "cell_type": "markdown",
   "metadata": {},
   "source": [
    "*It tells us that there's a positive correctlation relationship between the two variables. However, we couldn't use this to predict the number of civil engineering graduates number.*"
   ]
  },
  {
   "cell_type": "markdown",
   "metadata": {},
   "source": [
    "What you’ve just seen is an example of a spurious correlation, in which a relationship between two variables is purely due to chance. There are many such examples at https://www.tylervigen.com/spurious-correlations, where we found these data. This is an amusing website to spend a few minutes on, and it serves as a reminder that we should not use correlation as justification or evidence that two variables are related in a mechanistic or causal way. As you’ve probably heard before, “correlation does not imply causation.”\n",
    "\n",
    "The example above is silly, and makes this statement seem obvious, but it can be dangerous to forget the difference between a correlative link and a causal link."
   ]
  },
  {
   "cell_type": "markdown",
   "metadata": {},
   "source": [
    "Now, let’s investigate another situation when it’s important to recognize the limitations of correlations. Run the next cell to load a mystery dataset."
   ]
  },
  {
   "cell_type": "code",
   "execution_count": 19,
   "metadata": {},
   "outputs": [
    {
     "data": {
      "text/html": [
       "<table border=\"1\" class=\"dataframe\">\n",
       "    <thead>\n",
       "        <tr>\n",
       "            <th>x</th> <th>y</th>\n",
       "        </tr>\n",
       "    </thead>\n",
       "    <tbody>\n",
       "        <tr>\n",
       "            <td>5.31801 </td> <td>220.445 </td>\n",
       "        </tr>\n",
       "        <tr>\n",
       "            <td>-46.9561</td> <td>2011.91 </td>\n",
       "        </tr>\n",
       "        <tr>\n",
       "            <td>20.5586 </td> <td>60.7178 </td>\n",
       "        </tr>\n",
       "        <tr>\n",
       "            <td>-25.1235</td> <td>1797.85 </td>\n",
       "        </tr>\n",
       "        <tr>\n",
       "            <td>16.6883 </td> <td>-267.489</td>\n",
       "        </tr>\n",
       "        <tr>\n",
       "            <td>-83.7817</td> <td>7357.47 </td>\n",
       "        </tr>\n",
       "        <tr>\n",
       "            <td>-8.96097</td> <td>1077.6  </td>\n",
       "        </tr>\n",
       "        <tr>\n",
       "            <td>-43.0446</td> <td>1953.85 </td>\n",
       "        </tr>\n",
       "        <tr>\n",
       "            <td>31.4746 </td> <td>2446.56 </td>\n",
       "        </tr>\n",
       "        <tr>\n",
       "            <td>-3.85866</td> <td>411.589 </td>\n",
       "        </tr>\n",
       "    </tbody>\n",
       "</table>\n",
       "<p>... (390 rows omitted)</p>"
      ],
      "text/plain": [
       "x        | y\n",
       "5.31801  | 220.445\n",
       "-46.9561 | 2011.91\n",
       "20.5586  | 60.7178\n",
       "-25.1235 | 1797.85\n",
       "16.6883  | -267.489\n",
       "-83.7817 | 7357.47\n",
       "-8.96097 | 1077.6\n",
       "-43.0446 | 1953.85\n",
       "31.4746  | 2446.56\n",
       "-3.85866 | 411.589\n",
       "... (390 rows omitted)"
      ]
     },
     "execution_count": 19,
     "metadata": {},
     "output_type": "execute_result"
    }
   ],
   "source": [
    "mystery = Table.read_table(\"mystery.csv\")\n",
    "mystery"
   ]
  },
  {
   "cell_type": "markdown",
   "metadata": {
    "deletable": false,
    "editable": false
   },
   "source": [
    "**Question 2.6.** We’ll start by committing a sin against data science: we’ll start calculating correlation before investigating our data. In the following cell, assign mystery_correlation to the value of the correlation coefficient between the two variables in the mystery table.\n",
    "\n",
    "<!--\n",
    "BEGIN QUESTION\n",
    "name: q2_6\n",
    "-->"
   ]
  },
  {
   "cell_type": "code",
   "execution_count": 20,
   "metadata": {
    "deletable": false
   },
   "outputs": [
    {
     "data": {
      "text/plain": [
       "-0.024711531764254033"
      ]
     },
     "execution_count": 20,
     "metadata": {},
     "output_type": "execute_result"
    }
   ],
   "source": [
    "mystery_correlation = correlation_from_table(mystery, 'x','y')\n",
    "mystery_correlation"
   ]
  },
  {
   "cell_type": "markdown",
   "metadata": {
    "deletable": false,
    "editable": false
   },
   "source": [
    "**Question 2.7.** Based on the value of the correlation, what can we can say about the relationship between x and y?\n",
    "\n",
    "<!--\n",
    "BEGIN QUESTION\n",
    "name: q2_7\n",
    "-->"
   ]
  },
  {
   "cell_type": "markdown",
   "metadata": {},
   "source": [
    "*There exists a negative correclation relationship between x and y.*"
   ]
  },
  {
   "cell_type": "markdown",
   "metadata": {
    "deletable": false,
    "editable": false
   },
   "source": [
    "**Question 2.8.** Now let’s see why it’s valuable to investigate our data visually first. Create a scatter plot of the data in the mystery table.\n",
    "\n",
    "<!--\n",
    "BEGIN QUESTION\n",
    "name: q2_8\n",
    "-->"
   ]
  },
  {
   "cell_type": "code",
   "execution_count": 21,
   "metadata": {},
   "outputs": [
    {
     "data": {
      "image/png": "[encoded data removed]",
      "text/plain": [
       "<Figure size 360x360 with 1 Axes>"
      ]
     },
     "metadata": {},
     "output_type": "display_data"
    }
   ],
   "source": [
    "mystery.scatter('x','y')"
   ]
  },
  {
   "cell_type": "markdown",
   "metadata": {
    "deletable": false,
    "editable": false
   },
   "source": [
    "**Question 2.9.** What do you see? Is there a linear relationship between x and y? Is there some other kind of relationship? Why did we get the value for the correlation coefficient that we got? Discuss your answers with a neighbor or TA, then summarize below.\n",
    "\n",
    "<!--\n",
    "BEGIN QUESTION\n",
    "name: q2_8\n",
    "-->"
   ]
  },
  {
   "cell_type": "markdown",
   "metadata": {},
   "source": [
    "*It isn't a linear relationship between x and y but a vertex relationship.*"
   ]
  }
 ],
 "metadata": {
  "kernelspec": {
   "display_name": "Python 3",
   "language": "python",
   "name": "python3"
  },
  "language_info": {
   "codemirror_mode": {
    "name": "ipython",
    "version": 3
   },
   "file_extension": ".py",
   "mimetype": "text/x-python",
   "name": "python",
   "nbconvert_exporter": "python",
   "pygments_lexer": "ipython3",
   "version": "3.7.4"
  }
 },
 "nbformat": 4,
 "nbformat_minor": 2
}
